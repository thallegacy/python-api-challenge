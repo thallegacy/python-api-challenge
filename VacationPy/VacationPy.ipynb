{
 "cells": [
  {
   "cell_type": "markdown",
   "metadata": {},
   "source": [
    "# VacationPy\n",
    "----\n",
    "\n",
    "#### Note\n",
    "* Keep an eye on your API usage. Use https://developers.google.com/maps/reporting/gmp-reporting as reference for how to monitor your usage and billing.\n",
    "\n",
    "* Instructions have been included for each segment. You do not have to follow them exactly, but they are included to help you think through the steps."
   ]
  },
  {
   "cell_type": "code",
   "execution_count": 1,
   "metadata": {},
   "outputs": [],
   "source": [
    "# Dependencies and Setup\n",
    "import matplotlib.pyplot as plt\n",
    "import pandas as pd\n",
    "import numpy as np\n",
    "from pprint import pprint\n",
    "import requests\n",
    "import gmaps\n",
    "import os\n",
    "\n",
    "# Import API key\n",
    "from api_keys import g_key"
   ]
  },
  {
   "cell_type": "markdown",
   "metadata": {},
   "source": [
    "### Store Part I results into DataFrame\n",
    "* Load the csv exported in Part I to a DataFrame"
   ]
  },
  {
   "cell_type": "code",
   "execution_count": 2,
   "metadata": {},
   "outputs": [
    {
     "output_type": "execute_result",
     "data": {
      "text/plain": [
       "          City    Lat     Lng  Max Temp  Humidity  Cloudiness  Wind Speed  \\\n",
       "0  yellowknife  62.46 -114.35    -34.60        73          90        5.82   \n",
       "1    cape town -33.93   18.42     77.00        50          20       21.92   \n",
       "2   butaritari   3.07  172.79     81.95        80         100       15.17   \n",
       "3      kavieng  -2.57  150.80     83.71        73         100        7.81   \n",
       "4     khatanga  71.97  102.50    -27.83        82           0        7.96   \n",
       "\n",
       "  Country        Date  \n",
       "0      CA  1608209715  \n",
       "1      ZA  1608209461  \n",
       "2      KI  1608209718  \n",
       "3      PG  1608209719  \n",
       "4      RU  1608209720  "
      ],
      "text/html": "<div>\n<style scoped>\n    .dataframe tbody tr th:only-of-type {\n        vertical-align: middle;\n    }\n\n    .dataframe tbody tr th {\n        vertical-align: top;\n    }\n\n    .dataframe thead th {\n        text-align: right;\n    }\n</style>\n<table border=\"1\" class=\"dataframe\">\n  <thead>\n    <tr style=\"text-align: right;\">\n      <th></th>\n      <th>City</th>\n      <th>Lat</th>\n      <th>Lng</th>\n      <th>Max Temp</th>\n      <th>Humidity</th>\n      <th>Cloudiness</th>\n      <th>Wind Speed</th>\n      <th>Country</th>\n      <th>Date</th>\n    </tr>\n  </thead>\n  <tbody>\n    <tr>\n      <th>0</th>\n      <td>yellowknife</td>\n      <td>62.46</td>\n      <td>-114.35</td>\n      <td>-34.60</td>\n      <td>73</td>\n      <td>90</td>\n      <td>5.82</td>\n      <td>CA</td>\n      <td>1608209715</td>\n    </tr>\n    <tr>\n      <th>1</th>\n      <td>cape town</td>\n      <td>-33.93</td>\n      <td>18.42</td>\n      <td>77.00</td>\n      <td>50</td>\n      <td>20</td>\n      <td>21.92</td>\n      <td>ZA</td>\n      <td>1608209461</td>\n    </tr>\n    <tr>\n      <th>2</th>\n      <td>butaritari</td>\n      <td>3.07</td>\n      <td>172.79</td>\n      <td>81.95</td>\n      <td>80</td>\n      <td>100</td>\n      <td>15.17</td>\n      <td>KI</td>\n      <td>1608209718</td>\n    </tr>\n    <tr>\n      <th>3</th>\n      <td>kavieng</td>\n      <td>-2.57</td>\n      <td>150.80</td>\n      <td>83.71</td>\n      <td>73</td>\n      <td>100</td>\n      <td>7.81</td>\n      <td>PG</td>\n      <td>1608209719</td>\n    </tr>\n    <tr>\n      <th>4</th>\n      <td>khatanga</td>\n      <td>71.97</td>\n      <td>102.50</td>\n      <td>-27.83</td>\n      <td>82</td>\n      <td>0</td>\n      <td>7.96</td>\n      <td>RU</td>\n      <td>1608209720</td>\n    </tr>\n  </tbody>\n</table>\n</div>"
     },
     "metadata": {},
     "execution_count": 2
    }
   ],
   "source": [
    "# Load data from Part I to create dataframe\n",
    "weather_map = pd.read_csv('../WeatherPy/output_data/current_weather_data.csv')\n",
    "weather_map.dropna(inplace = True) \n",
    "weather_map.head()"
   ]
  },
  {
   "cell_type": "markdown",
   "metadata": {},
   "source": [
    "### Humidity Heatmap\n",
    "* Configure gmaps.\n",
    "* Use the Lat and Lng as locations and Humidity as the weight.\n",
    "* Add Heatmap layer to map."
   ]
  },
  {
   "cell_type": "code",
   "execution_count": 3,
   "metadata": {},
   "outputs": [],
   "source": [
    "# Store latitude and longitude in locations\n",
    "locations = weather_map[[\"Lat\", \"Lng\"]]\n",
    "\n",
    "# Set the weight value\n",
    "humidity = weather_map[\"Humidity\"]"
   ]
  },
  {
   "cell_type": "code",
   "execution_count": 4,
   "metadata": {},
   "outputs": [
    {
     "output_type": "display_data",
     "data": {
      "text/plain": "Figure(layout=FigureLayout(border='1px solid black', height='400px', margin='0 auto 0 auto', padding='1px', wi…",
      "application/vnd.jupyter.widget-view+json": {
       "version_major": 2,
       "version_minor": 0,
       "model_id": "b7d72a7c01164707b12738462b0e9d1d"
      }
     },
     "metadata": {}
    }
   ],
   "source": [
    "# Customize the size of the figure\n",
    "figure_layout = {\n",
    "    'width': '700px',\n",
    "    'height': '400px',\n",
    "    'border': '1px solid black',\n",
    "    'padding': '1px',\n",
    "    'margin': '0 auto 0 auto'\n",
    "}\n",
    "\n",
    "#Create Figure\n",
    "fig = gmaps.figure( layout=figure_layout, center=(46.0, -5.0), zoom_level=1.5)\n",
    "\n",
    "# Create heat layer\n",
    "heat_layer = gmaps.heatmap_layer(locations, weights=humidity, \n",
    "                                 dissipating=False, max_intensity=10,\n",
    "                                 point_radius=1)\n",
    "\n",
    "\n",
    "# Add layer\n",
    "fig.add_layer(heat_layer)\n",
    "\n",
    "# Display figure\n",
    "fig\n",
    "\n"
   ]
  },
  {
   "cell_type": "markdown",
   "metadata": {},
   "source": [
    "### Create new DataFrame fitting weather criteria\n",
    "* Narrow down the cities to fit weather conditions.\n",
    "* Drop any rows will null values."
   ]
  },
  {
   "cell_type": "code",
   "execution_count": 5,
   "metadata": {},
   "outputs": [
    {
     "output_type": "execute_result",
     "data": {
      "text/plain": [
       "           City    Lat     Lng  Max Temp  Humidity  Cloudiness  Wind Speed  \\\n",
       "35       riyadh  24.69   46.72     78.80        22           0        8.05   \n",
       "87          sur  22.57   59.53     72.50        56           0        7.07   \n",
       "92     flinders -34.58  150.86     75.99         1           0        3.00   \n",
       "328      jiwani  25.05   61.74     70.79        29           0        5.61   \n",
       "365    vallenar -28.57  -70.76     73.81        45           0        5.59   \n",
       "443    acajutla  13.59  -89.83     77.65        70           0        5.12   \n",
       "485     iralaya  15.00  -83.23     78.35        85           0        7.63   \n",
       "492  nelson bay -32.72  152.15     75.20        88           0        4.70   \n",
       "\n",
       "    Country        Date  \n",
       "35       SA  1608209646  \n",
       "87       OM  1608209821  \n",
       "92       AU  1608209827  \n",
       "328      PK  1608210121  \n",
       "365      CL  1608210166  \n",
       "443      SV  1608209972  \n",
       "485      HN  1608210314  \n",
       "492      AU  1608210322  "
      ],
      "text/html": "<div>\n<style scoped>\n    .dataframe tbody tr th:only-of-type {\n        vertical-align: middle;\n    }\n\n    .dataframe tbody tr th {\n        vertical-align: top;\n    }\n\n    .dataframe thead th {\n        text-align: right;\n    }\n</style>\n<table border=\"1\" class=\"dataframe\">\n  <thead>\n    <tr style=\"text-align: right;\">\n      <th></th>\n      <th>City</th>\n      <th>Lat</th>\n      <th>Lng</th>\n      <th>Max Temp</th>\n      <th>Humidity</th>\n      <th>Cloudiness</th>\n      <th>Wind Speed</th>\n      <th>Country</th>\n      <th>Date</th>\n    </tr>\n  </thead>\n  <tbody>\n    <tr>\n      <th>35</th>\n      <td>riyadh</td>\n      <td>24.69</td>\n      <td>46.72</td>\n      <td>78.80</td>\n      <td>22</td>\n      <td>0</td>\n      <td>8.05</td>\n      <td>SA</td>\n      <td>1608209646</td>\n    </tr>\n    <tr>\n      <th>87</th>\n      <td>sur</td>\n      <td>22.57</td>\n      <td>59.53</td>\n      <td>72.50</td>\n      <td>56</td>\n      <td>0</td>\n      <td>7.07</td>\n      <td>OM</td>\n      <td>1608209821</td>\n    </tr>\n    <tr>\n      <th>92</th>\n      <td>flinders</td>\n      <td>-34.58</td>\n      <td>150.86</td>\n      <td>75.99</td>\n      <td>1</td>\n      <td>0</td>\n      <td>3.00</td>\n      <td>AU</td>\n      <td>1608209827</td>\n    </tr>\n    <tr>\n      <th>328</th>\n      <td>jiwani</td>\n      <td>25.05</td>\n      <td>61.74</td>\n      <td>70.79</td>\n      <td>29</td>\n      <td>0</td>\n      <td>5.61</td>\n      <td>PK</td>\n      <td>1608210121</td>\n    </tr>\n    <tr>\n      <th>365</th>\n      <td>vallenar</td>\n      <td>-28.57</td>\n      <td>-70.76</td>\n      <td>73.81</td>\n      <td>45</td>\n      <td>0</td>\n      <td>5.59</td>\n      <td>CL</td>\n      <td>1608210166</td>\n    </tr>\n    <tr>\n      <th>443</th>\n      <td>acajutla</td>\n      <td>13.59</td>\n      <td>-89.83</td>\n      <td>77.65</td>\n      <td>70</td>\n      <td>0</td>\n      <td>5.12</td>\n      <td>SV</td>\n      <td>1608209972</td>\n    </tr>\n    <tr>\n      <th>485</th>\n      <td>iralaya</td>\n      <td>15.00</td>\n      <td>-83.23</td>\n      <td>78.35</td>\n      <td>85</td>\n      <td>0</td>\n      <td>7.63</td>\n      <td>HN</td>\n      <td>1608210314</td>\n    </tr>\n    <tr>\n      <th>492</th>\n      <td>nelson bay</td>\n      <td>-32.72</td>\n      <td>152.15</td>\n      <td>75.20</td>\n      <td>88</td>\n      <td>0</td>\n      <td>4.70</td>\n      <td>AU</td>\n      <td>1608210322</td>\n    </tr>\n  </tbody>\n</table>\n</div>"
     },
     "metadata": {},
     "execution_count": 5
    }
   ],
   "source": [
    "# Narrow down the cities to fit weather conditions.\n",
    "ideal_weather_data = weather_map.loc[(weather_map[\"Max Temp\"] > 70) & (weather_map[\"Max Temp\"] < 80) & (weather_map[\"Wind Speed\"] < 10) & (weather_map[\"Cloudiness\"] == 0)]\n",
    "ideal_weather_data"
   ]
  },
  {
   "cell_type": "markdown",
   "metadata": {},
   "source": [
    "### Hotel Map\n",
    "* Store into variable named `hotel_df`.\n",
    "* Add a \"Hotel Name\" column to the DataFrame.\n",
    "* Set parameters to search for hotels with 5000 meters.\n",
    "* Hit the Google Places API for each city's coordinates.\n",
    "* Store the first Hotel result into the DataFrame.\n",
    "* Plot markers on top of the heatmap."
   ]
  },
  {
   "cell_type": "code",
   "execution_count": 6,
   "metadata": {},
   "outputs": [
    {
     "output_type": "execute_result",
     "data": {
      "text/plain": [
       "           City    Lat     Lng  Max Temp  Humidity  Cloudiness  Wind Speed  \\\n",
       "35       riyadh  24.69   46.72     78.80        22           0        8.05   \n",
       "87          sur  22.57   59.53     72.50        56           0        7.07   \n",
       "92     flinders -34.58  150.86     75.99         1           0        3.00   \n",
       "328      jiwani  25.05   61.74     70.79        29           0        5.61   \n",
       "365    vallenar -28.57  -70.76     73.81        45           0        5.59   \n",
       "443    acajutla  13.59  -89.83     77.65        70           0        5.12   \n",
       "485     iralaya  15.00  -83.23     78.35        85           0        7.63   \n",
       "492  nelson bay -32.72  152.15     75.20        88           0        4.70   \n",
       "\n",
       "    Country        Date Hotel Name  \n",
       "35       SA  1608209646             \n",
       "87       OM  1608209821             \n",
       "92       AU  1608209827             \n",
       "328      PK  1608210121             \n",
       "365      CL  1608210166             \n",
       "443      SV  1608209972             \n",
       "485      HN  1608210314             \n",
       "492      AU  1608210322             "
      ],
      "text/html": "<div>\n<style scoped>\n    .dataframe tbody tr th:only-of-type {\n        vertical-align: middle;\n    }\n\n    .dataframe tbody tr th {\n        vertical-align: top;\n    }\n\n    .dataframe thead th {\n        text-align: right;\n    }\n</style>\n<table border=\"1\" class=\"dataframe\">\n  <thead>\n    <tr style=\"text-align: right;\">\n      <th></th>\n      <th>City</th>\n      <th>Lat</th>\n      <th>Lng</th>\n      <th>Max Temp</th>\n      <th>Humidity</th>\n      <th>Cloudiness</th>\n      <th>Wind Speed</th>\n      <th>Country</th>\n      <th>Date</th>\n      <th>Hotel Name</th>\n    </tr>\n  </thead>\n  <tbody>\n    <tr>\n      <th>35</th>\n      <td>riyadh</td>\n      <td>24.69</td>\n      <td>46.72</td>\n      <td>78.80</td>\n      <td>22</td>\n      <td>0</td>\n      <td>8.05</td>\n      <td>SA</td>\n      <td>1608209646</td>\n      <td></td>\n    </tr>\n    <tr>\n      <th>87</th>\n      <td>sur</td>\n      <td>22.57</td>\n      <td>59.53</td>\n      <td>72.50</td>\n      <td>56</td>\n      <td>0</td>\n      <td>7.07</td>\n      <td>OM</td>\n      <td>1608209821</td>\n      <td></td>\n    </tr>\n    <tr>\n      <th>92</th>\n      <td>flinders</td>\n      <td>-34.58</td>\n      <td>150.86</td>\n      <td>75.99</td>\n      <td>1</td>\n      <td>0</td>\n      <td>3.00</td>\n      <td>AU</td>\n      <td>1608209827</td>\n      <td></td>\n    </tr>\n    <tr>\n      <th>328</th>\n      <td>jiwani</td>\n      <td>25.05</td>\n      <td>61.74</td>\n      <td>70.79</td>\n      <td>29</td>\n      <td>0</td>\n      <td>5.61</td>\n      <td>PK</td>\n      <td>1608210121</td>\n      <td></td>\n    </tr>\n    <tr>\n      <th>365</th>\n      <td>vallenar</td>\n      <td>-28.57</td>\n      <td>-70.76</td>\n      <td>73.81</td>\n      <td>45</td>\n      <td>0</td>\n      <td>5.59</td>\n      <td>CL</td>\n      <td>1608210166</td>\n      <td></td>\n    </tr>\n    <tr>\n      <th>443</th>\n      <td>acajutla</td>\n      <td>13.59</td>\n      <td>-89.83</td>\n      <td>77.65</td>\n      <td>70</td>\n      <td>0</td>\n      <td>5.12</td>\n      <td>SV</td>\n      <td>1608209972</td>\n      <td></td>\n    </tr>\n    <tr>\n      <th>485</th>\n      <td>iralaya</td>\n      <td>15.00</td>\n      <td>-83.23</td>\n      <td>78.35</td>\n      <td>85</td>\n      <td>0</td>\n      <td>7.63</td>\n      <td>HN</td>\n      <td>1608210314</td>\n      <td></td>\n    </tr>\n    <tr>\n      <th>492</th>\n      <td>nelson bay</td>\n      <td>-32.72</td>\n      <td>152.15</td>\n      <td>75.20</td>\n      <td>88</td>\n      <td>0</td>\n      <td>4.70</td>\n      <td>AU</td>\n      <td>1608210322</td>\n      <td></td>\n    </tr>\n  </tbody>\n</table>\n</div>"
     },
     "metadata": {},
     "execution_count": 6
    }
   ],
   "source": [
    "# Store into variable named hotel_df.\n",
    "hotel_df = ideal_weather_data\n",
    "\n",
    "# Add a \"Hotel Name\" column to the DataFrame.\n",
    "hotel_df[\"Hotel Name\"] = \"\"\n",
    "hotel_df"
   ]
  },
  {
   "cell_type": "code",
   "execution_count": 7,
   "metadata": {},
   "outputs": [
    {
     "output_type": "stream",
     "name": "stdout",
     "text": [
      "Missing information...Next Location\n",
      "Missing information...Next Location\n"
     ]
    }
   ],
   "source": [
    "# params dictionary to update each iteration\n",
    "params = {\n",
    "    \"radius\": 5000,\n",
    "    \"types\": \"lodging\",\n",
    "    \"keyword\": \"hotel\",\n",
    "    \"key\": g_key\n",
    "}\n",
    "\n",
    "# Use the lat/lng to iterate through the weather\n",
    "for index, row in hotel_df.iterrows():\n",
    "    # get lat, lng from df\n",
    "    lat = row[\"Lat\"]\n",
    "    lng = row[\"Lng\"]\n",
    "\n",
    "    # change location each iteration while leaving original params in place\n",
    "    params[\"location\"] = f\"{lat},{lng}\"\n",
    "\n",
    "    # Use the search term: \"lodging with keyword hotel\" and our lat/lng\n",
    "    base_url = \"https://maps.googleapis.com/maps/api/place/nearbysearch/json\"\n",
    "\n",
    "    # make request and print url\n",
    "    name_address = requests.get(base_url, params=params).json()\n",
    "\n",
    "    # Since some data may be missing we incorporate a try-except to skip any that are missing a data point.\n",
    "    try:\n",
    "        hotel_df.loc[index, \"Hotel Name\"] = name_address[\"results\"][0][\"name\"]\n",
    "\n",
    "    except (KeyError, IndexError):\n",
    "        print(\"Missing information...Next Location\")  "
   ]
  },
  {
   "cell_type": "code",
   "execution_count": 8,
   "metadata": {},
   "outputs": [
    {
     "output_type": "execute_result",
     "data": {
      "text/plain": [
       "           City    Lat     Lng  Max Temp  Humidity  Cloudiness  Wind Speed  \\\n",
       "35       riyadh  24.69   46.72     78.80        22           0        8.05   \n",
       "87          sur  22.57   59.53     72.50        56           0        7.07   \n",
       "92     flinders -34.58  150.86     75.99         1           0        3.00   \n",
       "328      jiwani  25.05   61.74     70.79        29           0        5.61   \n",
       "365    vallenar -28.57  -70.76     73.81        45           0        5.59   \n",
       "443    acajutla  13.59  -89.83     77.65        70           0        5.12   \n",
       "485     iralaya  15.00  -83.23     78.35        85           0        7.63   \n",
       "492  nelson bay -32.72  152.15     75.20        88           0        4.70   \n",
       "\n",
       "    Country        Date                                   Hotel Name  \n",
       "35       SA  1608209646  Four Seasons Hotel Riyadh At Kingdom Center  \n",
       "87       OM  1608209821                              Sur Grand Hotel  \n",
       "92       AU  1608209827                                               \n",
       "328      PK  1608210121                           Hamza hotel jiwani  \n",
       "365      CL  1608210166                                  Hotel Cecil  \n",
       "443      SV  1608209972                     Villavela Hotel Boutique  \n",
       "485      HN  1608210314                                               \n",
       "492      AU  1608210322                     Oaks Pacific Blue Resort  "
      ],
      "text/html": "<div>\n<style scoped>\n    .dataframe tbody tr th:only-of-type {\n        vertical-align: middle;\n    }\n\n    .dataframe tbody tr th {\n        vertical-align: top;\n    }\n\n    .dataframe thead th {\n        text-align: right;\n    }\n</style>\n<table border=\"1\" class=\"dataframe\">\n  <thead>\n    <tr style=\"text-align: right;\">\n      <th></th>\n      <th>City</th>\n      <th>Lat</th>\n      <th>Lng</th>\n      <th>Max Temp</th>\n      <th>Humidity</th>\n      <th>Cloudiness</th>\n      <th>Wind Speed</th>\n      <th>Country</th>\n      <th>Date</th>\n      <th>Hotel Name</th>\n    </tr>\n  </thead>\n  <tbody>\n    <tr>\n      <th>35</th>\n      <td>riyadh</td>\n      <td>24.69</td>\n      <td>46.72</td>\n      <td>78.80</td>\n      <td>22</td>\n      <td>0</td>\n      <td>8.05</td>\n      <td>SA</td>\n      <td>1608209646</td>\n      <td>Four Seasons Hotel Riyadh At Kingdom Center</td>\n    </tr>\n    <tr>\n      <th>87</th>\n      <td>sur</td>\n      <td>22.57</td>\n      <td>59.53</td>\n      <td>72.50</td>\n      <td>56</td>\n      <td>0</td>\n      <td>7.07</td>\n      <td>OM</td>\n      <td>1608209821</td>\n      <td>Sur Grand Hotel</td>\n    </tr>\n    <tr>\n      <th>92</th>\n      <td>flinders</td>\n      <td>-34.58</td>\n      <td>150.86</td>\n      <td>75.99</td>\n      <td>1</td>\n      <td>0</td>\n      <td>3.00</td>\n      <td>AU</td>\n      <td>1608209827</td>\n      <td></td>\n    </tr>\n    <tr>\n      <th>328</th>\n      <td>jiwani</td>\n      <td>25.05</td>\n      <td>61.74</td>\n      <td>70.79</td>\n      <td>29</td>\n      <td>0</td>\n      <td>5.61</td>\n      <td>PK</td>\n      <td>1608210121</td>\n      <td>Hamza hotel jiwani</td>\n    </tr>\n    <tr>\n      <th>365</th>\n      <td>vallenar</td>\n      <td>-28.57</td>\n      <td>-70.76</td>\n      <td>73.81</td>\n      <td>45</td>\n      <td>0</td>\n      <td>5.59</td>\n      <td>CL</td>\n      <td>1608210166</td>\n      <td>Hotel Cecil</td>\n    </tr>\n    <tr>\n      <th>443</th>\n      <td>acajutla</td>\n      <td>13.59</td>\n      <td>-89.83</td>\n      <td>77.65</td>\n      <td>70</td>\n      <td>0</td>\n      <td>5.12</td>\n      <td>SV</td>\n      <td>1608209972</td>\n      <td>Villavela Hotel Boutique</td>\n    </tr>\n    <tr>\n      <th>485</th>\n      <td>iralaya</td>\n      <td>15.00</td>\n      <td>-83.23</td>\n      <td>78.35</td>\n      <td>85</td>\n      <td>0</td>\n      <td>7.63</td>\n      <td>HN</td>\n      <td>1608210314</td>\n      <td></td>\n    </tr>\n    <tr>\n      <th>492</th>\n      <td>nelson bay</td>\n      <td>-32.72</td>\n      <td>152.15</td>\n      <td>75.20</td>\n      <td>88</td>\n      <td>0</td>\n      <td>4.70</td>\n      <td>AU</td>\n      <td>1608210322</td>\n      <td>Oaks Pacific Blue Resort</td>\n    </tr>\n  </tbody>\n</table>\n</div>"
     },
     "metadata": {},
     "execution_count": 8
    }
   ],
   "source": [
    "#View Hotel Dataframe\n",
    "hotel_df"
   ]
  },
  {
   "cell_type": "code",
   "execution_count": 9,
   "metadata": {},
   "outputs": [],
   "source": [
    "# NOTE: Do not change any of the code in this cell\n",
    "\n",
    "# Using the template add the hotel marks to the heatmap\n",
    "info_box_template = \"\"\"\n",
    "<dl>\n",
    "<dt>Name</dt><dd>{Hotel Name}</dd>\n",
    "<dt>City</dt><dd>{City}</dd>\n",
    "<dt>Country</dt><dd>{Country}</dd>\n",
    "</dl>\n",
    "\"\"\"\n",
    "# Store the DataFrame Row\n",
    "# NOTE: be sure to update with your DataFrame name\n",
    "hotel_info = [info_box_template.format(**row) for index, row in hotel_df.iterrows()]\n",
    "locations = hotel_df[[\"Lat\", \"Lng\"]]\n"
   ]
  },
  {
   "cell_type": "code",
   "execution_count": 10,
   "metadata": {},
   "outputs": [
    {
     "output_type": "display_data",
     "data": {
      "text/plain": "Figure(layout=FigureLayout(border='1px solid black', height='400px', margin='0 auto 0 auto', padding='1px', wi…",
      "application/vnd.jupyter.widget-view+json": {
       "version_major": 2,
       "version_minor": 0,
       "model_id": "b7d72a7c01164707b12738462b0e9d1d"
      }
     },
     "metadata": {}
    }
   ],
   "source": [
    "# Add marker layer ontop of heat map\n",
    "markers = gmaps.marker_layer(locations, info_box_content=hotel_info)\n",
    "\n",
    "# Add marker layer\n",
    "fig.add_layer(markers)\n",
    "\n",
    "# Display Map\n",
    "fig\n",
    "\n"
   ]
  },
  {
   "cell_type": "code",
   "execution_count": null,
   "metadata": {},
   "outputs": [],
   "source": []
  }
 ],
 "metadata": {
  "kernelspec": {
   "display_name": "Python [conda env:.conda-PythonData]*",
   "language": "python",
   "name": "myenv"
  },
  "language_info": {
   "codemirror_mode": {
    "name": "ipython",
    "version": 3
   },
   "file_extension": ".py",
   "mimetype": "text/x-python",
   "name": "python",
   "nbconvert_exporter": "python",
   "pygments_lexer": "ipython3",
   "version": "3.8.5-final"
  },
  "latex_envs": {
   "LaTeX_envs_menu_present": true,
   "autoclose": false,
   "autocomplete": true,
   "bibliofile": "biblio.bib",
   "cite_by": "apalike",
   "current_citInitial": 1,
   "eqLabelWithNumbers": true,
   "eqNumInitial": 1,
   "hotkeys": {
    "equation": "Ctrl-E",
    "itemize": "Ctrl-I"
   },
   "labels_anchors": false,
   "latex_user_defs": false,
   "report_style_numbering": false,
   "user_envs_cfg": false
  }
 },
 "nbformat": 4,
 "nbformat_minor": 4
}