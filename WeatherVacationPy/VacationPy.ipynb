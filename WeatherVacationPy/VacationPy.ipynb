{
 "cells": [
  {
   "cell_type": "markdown",
   "metadata": {},
   "source": [
    "# VacationPy\n",
    "----\n",
    "\n",
    "#### Note\n",
    "* Keep an eye on your API usage. Use https://developers.google.com/maps/reporting/gmp-reporting as reference for how to monitor your usage and billing.\n",
    "\n",
    "* Instructions have been included for each segment. You do not have to follow them exactly, but they are included to help you think through the steps."
   ]
  },
  {
   "cell_type": "code",
   "execution_count": 1,
   "metadata": {},
   "outputs": [],
   "source": [
    "# Dependencies and Setup\n",
    "import matplotlib.pyplot as plt\n",
    "import pandas as pd\n",
    "import numpy as np\n",
    "from pprint import pprint\n",
    "import requests\n",
    "import gmaps\n",
    "import os\n",
    "\n",
    "# Import API key\n",
    "from api_keys import g_key"
   ]
  },
  {
   "cell_type": "markdown",
   "metadata": {},
   "source": [
    "### Store Part I results into DataFrame\n",
    "* Load the csv exported in Part I to a DataFrame"
   ]
  },
  {
   "cell_type": "code",
   "execution_count": 2,
   "metadata": {},
   "outputs": [
    {
     "output_type": "execute_result",
     "data": {
      "text/plain": [
       "           City    Lat     Lng  Max Temp  Humidity  Cloudiness  Wind Speed  \\\n",
       "0        cairns -16.92  145.77     75.20        83          99        3.78   \n",
       "1         nalut  30.33   10.85     55.67        44           0       11.34   \n",
       "2      cidreira -30.18  -50.21     79.83        64           3       10.25   \n",
       "4  puerto ayora  -0.74  -90.35     73.99        90          94        5.99   \n",
       "5        nemuro  43.32  145.57     28.04        88          77       10.96   \n",
       "\n",
       "  Country        Date  \n",
       "0      AU  1607878535  \n",
       "1      LY  1607878700  \n",
       "2      BR  1607878700  \n",
       "4      EC  1607878701  \n",
       "5      JP  1607878701  "
      ],
      "text/html": "<div>\n<style scoped>\n    .dataframe tbody tr th:only-of-type {\n        vertical-align: middle;\n    }\n\n    .dataframe tbody tr th {\n        vertical-align: top;\n    }\n\n    .dataframe thead th {\n        text-align: right;\n    }\n</style>\n<table border=\"1\" class=\"dataframe\">\n  <thead>\n    <tr style=\"text-align: right;\">\n      <th></th>\n      <th>City</th>\n      <th>Lat</th>\n      <th>Lng</th>\n      <th>Max Temp</th>\n      <th>Humidity</th>\n      <th>Cloudiness</th>\n      <th>Wind Speed</th>\n      <th>Country</th>\n      <th>Date</th>\n    </tr>\n  </thead>\n  <tbody>\n    <tr>\n      <th>0</th>\n      <td>cairns</td>\n      <td>-16.92</td>\n      <td>145.77</td>\n      <td>75.20</td>\n      <td>83</td>\n      <td>99</td>\n      <td>3.78</td>\n      <td>AU</td>\n      <td>1607878535</td>\n    </tr>\n    <tr>\n      <th>1</th>\n      <td>nalut</td>\n      <td>30.33</td>\n      <td>10.85</td>\n      <td>55.67</td>\n      <td>44</td>\n      <td>0</td>\n      <td>11.34</td>\n      <td>LY</td>\n      <td>1607878700</td>\n    </tr>\n    <tr>\n      <th>2</th>\n      <td>cidreira</td>\n      <td>-30.18</td>\n      <td>-50.21</td>\n      <td>79.83</td>\n      <td>64</td>\n      <td>3</td>\n      <td>10.25</td>\n      <td>BR</td>\n      <td>1607878700</td>\n    </tr>\n    <tr>\n      <th>4</th>\n      <td>puerto ayora</td>\n      <td>-0.74</td>\n      <td>-90.35</td>\n      <td>73.99</td>\n      <td>90</td>\n      <td>94</td>\n      <td>5.99</td>\n      <td>EC</td>\n      <td>1607878701</td>\n    </tr>\n    <tr>\n      <th>5</th>\n      <td>nemuro</td>\n      <td>43.32</td>\n      <td>145.57</td>\n      <td>28.04</td>\n      <td>88</td>\n      <td>77</td>\n      <td>10.96</td>\n      <td>JP</td>\n      <td>1607878701</td>\n    </tr>\n  </tbody>\n</table>\n</div>"
     },
     "metadata": {},
     "execution_count": 2
    }
   ],
   "source": [
    "# Load data from Part I to create dataframe\n",
    "weather_map = pd.read_csv('output_data/current_weather_data.csv')\n",
    "weather_map.dropna(inplace = True) \n",
    "weather_map.head()"
   ]
  },
  {
   "cell_type": "markdown",
   "metadata": {},
   "source": [
    "### Humidity Heatmap\n",
    "* Configure gmaps.\n",
    "* Use the Lat and Lng as locations and Humidity as the weight.\n",
    "* Add Heatmap layer to map."
   ]
  },
  {
   "cell_type": "code",
   "execution_count": 3,
   "metadata": {},
   "outputs": [],
   "source": [
    "# Store latitude and longitude in locations\n",
    "locations = weather_map[[\"Lat\", \"Lng\"]]\n",
    "\n",
    "# Set the weight value\n",
    "humidity = weather_map[\"Humidity\"]"
   ]
  },
  {
   "cell_type": "code",
   "execution_count": 4,
   "metadata": {},
   "outputs": [
    {
     "output_type": "display_data",
     "data": {
      "text/plain": "Figure(layout=FigureLayout(height='420px'))",
      "application/vnd.jupyter.widget-view+json": {
       "version_major": 2,
       "version_minor": 0,
       "model_id": "a35c82c0120e4d8b90daa8de80784633"
      }
     },
     "metadata": {}
    }
   ],
   "source": [
    "# Plot Heatmap\n",
    "fig = gmaps.figure()\n",
    "\n",
    "# Create heat layer\n",
    "heat_layer = gmaps.heatmap_layer(locations, weights=humidity, \n",
    "                                 dissipating=False, max_intensity=10,\n",
    "                                 point_radius=1)\n",
    "\n",
    "\n",
    "# Add layer\n",
    "fig.add_layer(heat_layer)\n",
    "\n",
    "# Display figure\n",
    "fig"
   ]
  },
  {
   "cell_type": "markdown",
   "metadata": {},
   "source": [
    "### Create new DataFrame fitting weather criteria\n",
    "* Narrow down the cities to fit weather conditions.\n",
    "* Drop any rows will null values."
   ]
  },
  {
   "cell_type": "code",
   "execution_count": 3,
   "metadata": {},
   "outputs": [
    {
     "output_type": "execute_result",
     "data": {
      "text/plain": [
       "             City    Lat     Lng  Max Temp  Humidity  Cloudiness  Wind Speed  \\\n",
       "8          avarua -21.21 -159.78     73.40       100           0        3.36   \n",
       "16      cape town -33.93   18.42     72.00        46           0        9.17   \n",
       "138  kruisfontein -34.00   24.73     73.99        77           0        5.01   \n",
       "348         arica -18.48  -70.30     75.20        53           0        9.17   \n",
       "418         bilma  18.69   12.92     78.84        17           0        9.22   \n",
       "463      tessalit  20.20    1.01     77.56        19           0        9.71   \n",
       "554          puri  19.80   85.85     71.60        88           0        6.26   \n",
       "\n",
       "    Country        Date  \n",
       "8        CK  1607878701  \n",
       "16       ZA  1607878487  \n",
       "138      ZA  1607878719  \n",
       "348      CL  1607878788  \n",
       "418      NE  1607878797  \n",
       "463      ML  1607878809  \n",
       "554      IN  1607878845  "
      ],
      "text/html": "<div>\n<style scoped>\n    .dataframe tbody tr th:only-of-type {\n        vertical-align: middle;\n    }\n\n    .dataframe tbody tr th {\n        vertical-align: top;\n    }\n\n    .dataframe thead th {\n        text-align: right;\n    }\n</style>\n<table border=\"1\" class=\"dataframe\">\n  <thead>\n    <tr style=\"text-align: right;\">\n      <th></th>\n      <th>City</th>\n      <th>Lat</th>\n      <th>Lng</th>\n      <th>Max Temp</th>\n      <th>Humidity</th>\n      <th>Cloudiness</th>\n      <th>Wind Speed</th>\n      <th>Country</th>\n      <th>Date</th>\n    </tr>\n  </thead>\n  <tbody>\n    <tr>\n      <th>8</th>\n      <td>avarua</td>\n      <td>-21.21</td>\n      <td>-159.78</td>\n      <td>73.40</td>\n      <td>100</td>\n      <td>0</td>\n      <td>3.36</td>\n      <td>CK</td>\n      <td>1607878701</td>\n    </tr>\n    <tr>\n      <th>16</th>\n      <td>cape town</td>\n      <td>-33.93</td>\n      <td>18.42</td>\n      <td>72.00</td>\n      <td>46</td>\n      <td>0</td>\n      <td>9.17</td>\n      <td>ZA</td>\n      <td>1607878487</td>\n    </tr>\n    <tr>\n      <th>138</th>\n      <td>kruisfontein</td>\n      <td>-34.00</td>\n      <td>24.73</td>\n      <td>73.99</td>\n      <td>77</td>\n      <td>0</td>\n      <td>5.01</td>\n      <td>ZA</td>\n      <td>1607878719</td>\n    </tr>\n    <tr>\n      <th>348</th>\n      <td>arica</td>\n      <td>-18.48</td>\n      <td>-70.30</td>\n      <td>75.20</td>\n      <td>53</td>\n      <td>0</td>\n      <td>9.17</td>\n      <td>CL</td>\n      <td>1607878788</td>\n    </tr>\n    <tr>\n      <th>418</th>\n      <td>bilma</td>\n      <td>18.69</td>\n      <td>12.92</td>\n      <td>78.84</td>\n      <td>17</td>\n      <td>0</td>\n      <td>9.22</td>\n      <td>NE</td>\n      <td>1607878797</td>\n    </tr>\n    <tr>\n      <th>463</th>\n      <td>tessalit</td>\n      <td>20.20</td>\n      <td>1.01</td>\n      <td>77.56</td>\n      <td>19</td>\n      <td>0</td>\n      <td>9.71</td>\n      <td>ML</td>\n      <td>1607878809</td>\n    </tr>\n    <tr>\n      <th>554</th>\n      <td>puri</td>\n      <td>19.80</td>\n      <td>85.85</td>\n      <td>71.60</td>\n      <td>88</td>\n      <td>0</td>\n      <td>6.26</td>\n      <td>IN</td>\n      <td>1607878845</td>\n    </tr>\n  </tbody>\n</table>\n</div>"
     },
     "metadata": {},
     "execution_count": 3
    }
   ],
   "source": [
    "# Narrow down the cities to fit weather conditions.\n",
    "ideal_weather_data = weather_map.loc[(weather_map[\"Max Temp\"] > 70) & (weather_map[\"Max Temp\"] < 80) & (weather_map[\"Wind Speed\"] < 10) & (weather_map[\"Cloudiness\"] == 0)]\n",
    "ideal_weather_data"
   ]
  },
  {
   "cell_type": "markdown",
   "metadata": {},
   "source": [
    "### Hotel Map\n",
    "* Store into variable named `hotel_df`.\n",
    "* Add a \"Hotel Name\" column to the DataFrame.\n",
    "* Set parameters to search for hotels with 5000 meters.\n",
    "* Hit the Google Places API for each city's coordinates.\n",
    "* Store the first Hotel result into the DataFrame.\n",
    "* Plot markers on top of the heatmap."
   ]
  },
  {
   "cell_type": "code",
   "execution_count": 4,
   "metadata": {},
   "outputs": [
    {
     "output_type": "execute_result",
     "data": {
      "text/plain": [
       "             City    Lat     Lng  Max Temp  Humidity  Cloudiness  Wind Speed  \\\n",
       "8          avarua -21.21 -159.78     73.40       100           0        3.36   \n",
       "16      cape town -33.93   18.42     72.00        46           0        9.17   \n",
       "138  kruisfontein -34.00   24.73     73.99        77           0        5.01   \n",
       "348         arica -18.48  -70.30     75.20        53           0        9.17   \n",
       "418         bilma  18.69   12.92     78.84        17           0        9.22   \n",
       "463      tessalit  20.20    1.01     77.56        19           0        9.71   \n",
       "554          puri  19.80   85.85     71.60        88           0        6.26   \n",
       "\n",
       "    Country        Date Hotel Name  \n",
       "8        CK  1607878701             \n",
       "16       ZA  1607878487             \n",
       "138      ZA  1607878719             \n",
       "348      CL  1607878788             \n",
       "418      NE  1607878797             \n",
       "463      ML  1607878809             \n",
       "554      IN  1607878845             "
      ],
      "text/html": "<div>\n<style scoped>\n    .dataframe tbody tr th:only-of-type {\n        vertical-align: middle;\n    }\n\n    .dataframe tbody tr th {\n        vertical-align: top;\n    }\n\n    .dataframe thead th {\n        text-align: right;\n    }\n</style>\n<table border=\"1\" class=\"dataframe\">\n  <thead>\n    <tr style=\"text-align: right;\">\n      <th></th>\n      <th>City</th>\n      <th>Lat</th>\n      <th>Lng</th>\n      <th>Max Temp</th>\n      <th>Humidity</th>\n      <th>Cloudiness</th>\n      <th>Wind Speed</th>\n      <th>Country</th>\n      <th>Date</th>\n      <th>Hotel Name</th>\n    </tr>\n  </thead>\n  <tbody>\n    <tr>\n      <th>8</th>\n      <td>avarua</td>\n      <td>-21.21</td>\n      <td>-159.78</td>\n      <td>73.40</td>\n      <td>100</td>\n      <td>0</td>\n      <td>3.36</td>\n      <td>CK</td>\n      <td>1607878701</td>\n      <td></td>\n    </tr>\n    <tr>\n      <th>16</th>\n      <td>cape town</td>\n      <td>-33.93</td>\n      <td>18.42</td>\n      <td>72.00</td>\n      <td>46</td>\n      <td>0</td>\n      <td>9.17</td>\n      <td>ZA</td>\n      <td>1607878487</td>\n      <td></td>\n    </tr>\n    <tr>\n      <th>138</th>\n      <td>kruisfontein</td>\n      <td>-34.00</td>\n      <td>24.73</td>\n      <td>73.99</td>\n      <td>77</td>\n      <td>0</td>\n      <td>5.01</td>\n      <td>ZA</td>\n      <td>1607878719</td>\n      <td></td>\n    </tr>\n    <tr>\n      <th>348</th>\n      <td>arica</td>\n      <td>-18.48</td>\n      <td>-70.30</td>\n      <td>75.20</td>\n      <td>53</td>\n      <td>0</td>\n      <td>9.17</td>\n      <td>CL</td>\n      <td>1607878788</td>\n      <td></td>\n    </tr>\n    <tr>\n      <th>418</th>\n      <td>bilma</td>\n      <td>18.69</td>\n      <td>12.92</td>\n      <td>78.84</td>\n      <td>17</td>\n      <td>0</td>\n      <td>9.22</td>\n      <td>NE</td>\n      <td>1607878797</td>\n      <td></td>\n    </tr>\n    <tr>\n      <th>463</th>\n      <td>tessalit</td>\n      <td>20.20</td>\n      <td>1.01</td>\n      <td>77.56</td>\n      <td>19</td>\n      <td>0</td>\n      <td>9.71</td>\n      <td>ML</td>\n      <td>1607878809</td>\n      <td></td>\n    </tr>\n    <tr>\n      <th>554</th>\n      <td>puri</td>\n      <td>19.80</td>\n      <td>85.85</td>\n      <td>71.60</td>\n      <td>88</td>\n      <td>0</td>\n      <td>6.26</td>\n      <td>IN</td>\n      <td>1607878845</td>\n      <td></td>\n    </tr>\n  </tbody>\n</table>\n</div>"
     },
     "metadata": {},
     "execution_count": 4
    }
   ],
   "source": [
    "# Store into variable named hotel_df.\n",
    "hotel_df = ideal_weather_data\n",
    "\n",
    "# Add a \"Hotel Name\" column to the DataFrame.\n",
    "hotel_df[\"Hotel Name\"] = \"\"\n",
    "hotel_df"
   ]
  },
  {
   "cell_type": "code",
   "execution_count": 8,
   "metadata": {},
   "outputs": [
    {
     "output_type": "stream",
     "name": "stdout",
     "text": [
      "Missing information...Next Location\n",
      "Missing information...Next Location\n"
     ]
    }
   ],
   "source": [
    "# params dictionary to update each iteration\n",
    "params = {\n",
    "    \"radius\": 50000,\n",
    "    \"types\": \"lodging\",\n",
    "    \"keyword\": \"hotel\",\n",
    "    \"key\": g_key\n",
    "}\n",
    "\n",
    "# Use the lat/lng to iterate through the weather\n",
    "for index, row in hotel_df.iterrows():\n",
    "    # get lat, lng from df\n",
    "    lat = row[\"Lat\"]\n",
    "    lng = row[\"Lng\"]\n",
    "\n",
    "    # change location each iteration while leaving original params in place\n",
    "    params[\"location\"] = f\"{lat},{lng}\"\n",
    "\n",
    "    # Use the search term: \"lodging with keyword hotel\" and our lat/lng\n",
    "    base_url = \"https://maps.googleapis.com/maps/api/place/nearbysearch/json\"\n",
    "\n",
    "    # make request and print url\n",
    "    name_address = requests.get(base_url, params=params).json()\n",
    "\n",
    "    # Since some data may be missing we incorporate a try-except to skip any that are missing a data point.\n",
    "    try:\n",
    "        hotel_df.loc[index, \"Hotel Name\"] = name_address[\"results\"][0][\"name\"]\n",
    "\n",
    "    except (KeyError, IndexError):\n",
    "        print(\"Missing information...Next Location\")  "
   ]
  },
  {
   "cell_type": "code",
   "execution_count": null,
   "metadata": {},
   "outputs": [],
   "source": [
    "# NOTE: Do not change any of the code in this cell\n",
    "\n",
    "# Using the template add the hotel marks to the heatmap\n",
    "info_box_template = \"\"\"\n",
    "<dl>\n",
    "<dt>Name</dt><dd>{Hotel Name}</dd>\n",
    "<dt>City</dt><dd>{City}</dd>\n",
    "<dt>Country</dt><dd>{Country}</dd>\n",
    "</dl>\n",
    "\"\"\"\n",
    "# Store the DataFrame Row\n",
    "# NOTE: be sure to update with your DataFrame name\n",
    "hotel_info = [info_box_template.format(**row) for index, row in hotel_df.iterrows()]\n",
    "locations = hotel_df[[\"Lat\", \"Lng\"]]"
   ]
  },
  {
   "cell_type": "code",
   "execution_count": null,
   "metadata": {},
   "outputs": [],
   "source": [
    "# Add marker layer ontop of heat map\n",
    "\n",
    "\n",
    "# Display figure\n"
   ]
  },
  {
   "cell_type": "code",
   "execution_count": null,
   "metadata": {},
   "outputs": [],
   "source": []
  }
 ],
 "metadata": {
  "kernelspec": {
   "display_name": "Python [conda env:.conda-PythonData]*",
   "language": "python",
   "name": "myenv"
  },
  "language_info": {
   "codemirror_mode": {
    "name": "ipython",
    "version": 3
   },
   "file_extension": ".py",
   "mimetype": "text/x-python",
   "name": "python",
   "nbconvert_exporter": "python",
   "pygments_lexer": "ipython3",
   "version": "3.8.5-final"
  },
  "latex_envs": {
   "LaTeX_envs_menu_present": true,
   "autoclose": false,
   "autocomplete": true,
   "bibliofile": "biblio.bib",
   "cite_by": "apalike",
   "current_citInitial": 1,
   "eqLabelWithNumbers": true,
   "eqNumInitial": 1,
   "hotkeys": {
    "equation": "Ctrl-E",
    "itemize": "Ctrl-I"
   },
   "labels_anchors": false,
   "latex_user_defs": false,
   "report_style_numbering": false,
   "user_envs_cfg": false
  }
 },
 "nbformat": 4,
 "nbformat_minor": 4
}