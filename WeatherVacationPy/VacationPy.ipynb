{
 "cells": [
  {
   "cell_type": "markdown",
   "metadata": {},
   "source": [
    "# VacationPy\n",
    "----\n",
    "\n",
    "#### Note\n",
    "* Keep an eye on your API usage. Use https://developers.google.com/maps/reporting/gmp-reporting as reference for how to monitor your usage and billing.\n",
    "\n",
    "* Instructions have been included for each segment. You do not have to follow them exactly, but they are included to help you think through the steps."
   ]
  },
  {
   "cell_type": "code",
   "execution_count": 1,
   "metadata": {},
   "outputs": [],
   "source": [
    "# Dependencies and Setup\n",
    "import matplotlib.pyplot as plt\n",
    "import pandas as pd\n",
    "import numpy as np\n",
    "from pprint import pprint\n",
    "import requests\n",
    "import gmaps\n",
    "import os\n",
    "\n",
    "# Import API key\n",
    "from api_keys import g_key"
   ]
  },
  {
   "cell_type": "markdown",
   "metadata": {},
   "source": [
    "### Store Part I results into DataFrame\n",
    "* Load the csv exported in Part I to a DataFrame"
   ]
  },
  {
   "cell_type": "code",
   "execution_count": 2,
   "metadata": {},
   "outputs": [
    {
     "output_type": "execute_result",
     "data": {
      "text/plain": [
       "           City    Lat     Lng  Max Temp  Humidity  Cloudiness  Wind Speed  \\\n",
       "0        cairns -16.92  145.77     75.20        83          99        3.78   \n",
       "1         nalut  30.33   10.85     55.67        44           0       11.34   \n",
       "2      cidreira -30.18  -50.21     79.83        64           3       10.25   \n",
       "4  puerto ayora  -0.74  -90.35     73.99        90          94        5.99   \n",
       "5        nemuro  43.32  145.57     28.04        88          77       10.96   \n",
       "\n",
       "  Country        Date  \n",
       "0      AU  1607878535  \n",
       "1      LY  1607878700  \n",
       "2      BR  1607878700  \n",
       "4      EC  1607878701  \n",
       "5      JP  1607878701  "
      ],
      "text/html": "<div>\n<style scoped>\n    .dataframe tbody tr th:only-of-type {\n        vertical-align: middle;\n    }\n\n    .dataframe tbody tr th {\n        vertical-align: top;\n    }\n\n    .dataframe thead th {\n        text-align: right;\n    }\n</style>\n<table border=\"1\" class=\"dataframe\">\n  <thead>\n    <tr style=\"text-align: right;\">\n      <th></th>\n      <th>City</th>\n      <th>Lat</th>\n      <th>Lng</th>\n      <th>Max Temp</th>\n      <th>Humidity</th>\n      <th>Cloudiness</th>\n      <th>Wind Speed</th>\n      <th>Country</th>\n      <th>Date</th>\n    </tr>\n  </thead>\n  <tbody>\n    <tr>\n      <th>0</th>\n      <td>cairns</td>\n      <td>-16.92</td>\n      <td>145.77</td>\n      <td>75.20</td>\n      <td>83</td>\n      <td>99</td>\n      <td>3.78</td>\n      <td>AU</td>\n      <td>1607878535</td>\n    </tr>\n    <tr>\n      <th>1</th>\n      <td>nalut</td>\n      <td>30.33</td>\n      <td>10.85</td>\n      <td>55.67</td>\n      <td>44</td>\n      <td>0</td>\n      <td>11.34</td>\n      <td>LY</td>\n      <td>1607878700</td>\n    </tr>\n    <tr>\n      <th>2</th>\n      <td>cidreira</td>\n      <td>-30.18</td>\n      <td>-50.21</td>\n      <td>79.83</td>\n      <td>64</td>\n      <td>3</td>\n      <td>10.25</td>\n      <td>BR</td>\n      <td>1607878700</td>\n    </tr>\n    <tr>\n      <th>4</th>\n      <td>puerto ayora</td>\n      <td>-0.74</td>\n      <td>-90.35</td>\n      <td>73.99</td>\n      <td>90</td>\n      <td>94</td>\n      <td>5.99</td>\n      <td>EC</td>\n      <td>1607878701</td>\n    </tr>\n    <tr>\n      <th>5</th>\n      <td>nemuro</td>\n      <td>43.32</td>\n      <td>145.57</td>\n      <td>28.04</td>\n      <td>88</td>\n      <td>77</td>\n      <td>10.96</td>\n      <td>JP</td>\n      <td>1607878701</td>\n    </tr>\n  </tbody>\n</table>\n</div>"
     },
     "metadata": {},
     "execution_count": 2
    }
   ],
   "source": [
    "# Load data from Part I to create dataframe\n",
    "weather_map = pd.read_csv('output_data/current_weather_data.csv')\n",
    "weather_map.dropna(inplace = True) \n",
    "weather_map.head()"
   ]
  },
  {
   "cell_type": "markdown",
   "metadata": {},
   "source": [
    "### Humidity Heatmap\n",
    "* Configure gmaps.\n",
    "* Use the Lat and Lng as locations and Humidity as the weight.\n",
    "* Add Heatmap layer to map."
   ]
  },
  {
   "cell_type": "code",
   "execution_count": 3,
   "metadata": {},
   "outputs": [],
   "source": [
    "# Store latitude and longitude in locations\n",
    "locations = weather_map[[\"Lat\", \"Lng\"]]\n",
    "\n",
    "# Set the weight value\n",
    "humidity = weather_map[\"Humidity\"]"
   ]
  },
  {
   "cell_type": "code",
   "execution_count": 4,
   "metadata": {},
   "outputs": [
    {
     "output_type": "display_data",
     "data": {
      "text/plain": "Figure(layout=FigureLayout(height='420px'))",
      "application/vnd.jupyter.widget-view+json": {
       "version_major": 2,
       "version_minor": 0,
       "model_id": "a35c82c0120e4d8b90daa8de80784633"
      }
     },
     "metadata": {}
    }
   ],
   "source": [
    "# Plot Heatmap\n",
    "fig = gmaps.figure()\n",
    "\n",
    "# Create heat layer\n",
    "heat_layer = gmaps.heatmap_layer(locations, weights=humidity, \n",
    "                                 dissipating=False, max_intensity=10,\n",
    "                                 point_radius=1)\n",
    "\n",
    "\n",
    "# Add layer\n",
    "fig.add_layer(heat_layer)\n",
    "\n",
    "# Display figure\n",
    "fig"
   ]
  },
  {
   "cell_type": "markdown",
   "metadata": {},
   "source": [
    "### Create new DataFrame fitting weather criteria\n",
    "* Narrow down the cities to fit weather conditions.\n",
    "* Drop any rows will null values."
   ]
  },
  {
   "cell_type": "code",
   "execution_count": 3,
   "metadata": {},
   "outputs": [
    {
     "output_type": "execute_result",
     "data": {
      "text/plain": [
       "             City    Lat     Lng  Max Temp  Humidity  Cloudiness  Wind Speed  \\\n",
       "8          avarua -21.21 -159.78     73.40       100           0        3.36   \n",
       "16      cape town -33.93   18.42     72.00        46           0        9.17   \n",
       "138  kruisfontein -34.00   24.73     73.99        77           0        5.01   \n",
       "348         arica -18.48  -70.30     75.20        53           0        9.17   \n",
       "418         bilma  18.69   12.92     78.84        17           0        9.22   \n",
       "463      tessalit  20.20    1.01     77.56        19           0        9.71   \n",
       "554          puri  19.80   85.85     71.60        88           0        6.26   \n",
       "\n",
       "    Country        Date  \n",
       "8        CK  1607878701  \n",
       "16       ZA  1607878487  \n",
       "138      ZA  1607878719  \n",
       "348      CL  1607878788  \n",
       "418      NE  1607878797  \n",
       "463      ML  1607878809  \n",
       "554      IN  1607878845  "
      ],
      "text/html": "<div>\n<style scoped>\n    .dataframe tbody tr th:only-of-type {\n        vertical-align: middle;\n    }\n\n    .dataframe tbody tr th {\n        vertical-align: top;\n    }\n\n    .dataframe thead th {\n        text-align: right;\n    }\n</style>\n<table border=\"1\" class=\"dataframe\">\n  <thead>\n    <tr style=\"text-align: right;\">\n      <th></th>\n      <th>City</th>\n      <th>Lat</th>\n      <th>Lng</th>\n      <th>Max Temp</th>\n      <th>Humidity</th>\n      <th>Cloudiness</th>\n      <th>Wind Speed</th>\n      <th>Country</th>\n      <th>Date</th>\n    </tr>\n  </thead>\n  <tbody>\n    <tr>\n      <th>8</th>\n      <td>avarua</td>\n      <td>-21.21</td>\n      <td>-159.78</td>\n      <td>73.40</td>\n      <td>100</td>\n      <td>0</td>\n      <td>3.36</td>\n      <td>CK</td>\n      <td>1607878701</td>\n    </tr>\n    <tr>\n      <th>16</th>\n      <td>cape town</td>\n      <td>-33.93</td>\n      <td>18.42</td>\n      <td>72.00</td>\n      <td>46</td>\n      <td>0</td>\n      <td>9.17</td>\n      <td>ZA</td>\n      <td>1607878487</td>\n    </tr>\n    <tr>\n      <th>138</th>\n      <td>kruisfontein</td>\n      <td>-34.00</td>\n      <td>24.73</td>\n      <td>73.99</td>\n      <td>77</td>\n      <td>0</td>\n      <td>5.01</td>\n      <td>ZA</td>\n      <td>1607878719</td>\n    </tr>\n    <tr>\n      <th>348</th>\n      <td>arica</td>\n      <td>-18.48</td>\n      <td>-70.30</td>\n      <td>75.20</td>\n      <td>53</td>\n      <td>0</td>\n      <td>9.17</td>\n      <td>CL</td>\n      <td>1607878788</td>\n    </tr>\n    <tr>\n      <th>418</th>\n      <td>bilma</td>\n      <td>18.69</td>\n      <td>12.92</td>\n      <td>78.84</td>\n      <td>17</td>\n      <td>0</td>\n      <td>9.22</td>\n      <td>NE</td>\n      <td>1607878797</td>\n    </tr>\n    <tr>\n      <th>463</th>\n      <td>tessalit</td>\n      <td>20.20</td>\n      <td>1.01</td>\n      <td>77.56</td>\n      <td>19</td>\n      <td>0</td>\n      <td>9.71</td>\n      <td>ML</td>\n      <td>1607878809</td>\n    </tr>\n    <tr>\n      <th>554</th>\n      <td>puri</td>\n      <td>19.80</td>\n      <td>85.85</td>\n      <td>71.60</td>\n      <td>88</td>\n      <td>0</td>\n      <td>6.26</td>\n      <td>IN</td>\n      <td>1607878845</td>\n    </tr>\n  </tbody>\n</table>\n</div>"
     },
     "metadata": {},
     "execution_count": 3
    }
   ],
   "source": [
    "# Narrow down the cities to fit weather conditions.\n",
    "ideal_weather_data = weather_map.loc[(weather_map[\"Max Temp\"] > 70) & (weather_map[\"Max Temp\"] < 80) & (weather_map[\"Wind Speed\"] < 10) & (weather_map[\"Cloudiness\"] == 0)]\n",
    "ideal_weather_data"
   ]
  },
  {
   "cell_type": "markdown",
   "metadata": {},
   "source": [
    "### Hotel Map\n",
    "* Store into variable named `hotel_df`.\n",
    "* Add a \"Hotel Name\" column to the DataFrame.\n",
    "* Set parameters to search for hotels with 5000 meters.\n",
    "* Hit the Google Places API for each city's coordinates.\n",
    "* Store the first Hotel result into the DataFrame.\n",
    "* Plot markers on top of the heatmap."
   ]
  },
  {
   "cell_type": "code",
   "execution_count": 4,
   "metadata": {},
   "outputs": [
    {
     "output_type": "execute_result",
     "data": {
      "text/plain": [
       "             City    Lat     Lng  Max Temp  Humidity  Cloudiness  Wind Speed  \\\n",
       "8          avarua -21.21 -159.78     73.40       100           0        3.36   \n",
       "16      cape town -33.93   18.42     72.00        46           0        9.17   \n",
       "138  kruisfontein -34.00   24.73     73.99        77           0        5.01   \n",
       "348         arica -18.48  -70.30     75.20        53           0        9.17   \n",
       "418         bilma  18.69   12.92     78.84        17           0        9.22   \n",
       "463      tessalit  20.20    1.01     77.56        19           0        9.71   \n",
       "554          puri  19.80   85.85     71.60        88           0        6.26   \n",
       "\n",
       "    Country        Date Hotel Name  \n",
       "8        CK  1607878701             \n",
       "16       ZA  1607878487             \n",
       "138      ZA  1607878719             \n",
       "348      CL  1607878788             \n",
       "418      NE  1607878797             \n",
       "463      ML  1607878809             \n",
       "554      IN  1607878845             "
      ],
      "text/html": "<div>\n<style scoped>\n    .dataframe tbody tr th:only-of-type {\n        vertical-align: middle;\n    }\n\n    .dataframe tbody tr th {\n        vertical-align: top;\n    }\n\n    .dataframe thead th {\n        text-align: right;\n    }\n</style>\n<table border=\"1\" class=\"dataframe\">\n  <thead>\n    <tr style=\"text-align: right;\">\n      <th></th>\n      <th>City</th>\n      <th>Lat</th>\n      <th>Lng</th>\n      <th>Max Temp</th>\n      <th>Humidity</th>\n      <th>Cloudiness</th>\n      <th>Wind Speed</th>\n      <th>Country</th>\n      <th>Date</th>\n      <th>Hotel Name</th>\n    </tr>\n  </thead>\n  <tbody>\n    <tr>\n      <th>8</th>\n      <td>avarua</td>\n      <td>-21.21</td>\n      <td>-159.78</td>\n      <td>73.40</td>\n      <td>100</td>\n      <td>0</td>\n      <td>3.36</td>\n      <td>CK</td>\n      <td>1607878701</td>\n      <td></td>\n    </tr>\n    <tr>\n      <th>16</th>\n      <td>cape town</td>\n      <td>-33.93</td>\n      <td>18.42</td>\n      <td>72.00</td>\n      <td>46</td>\n      <td>0</td>\n      <td>9.17</td>\n      <td>ZA</td>\n      <td>1607878487</td>\n      <td></td>\n    </tr>\n    <tr>\n      <th>138</th>\n      <td>kruisfontein</td>\n      <td>-34.00</td>\n      <td>24.73</td>\n      <td>73.99</td>\n      <td>77</td>\n      <td>0</td>\n      <td>5.01</td>\n      <td>ZA</td>\n      <td>1607878719</td>\n      <td></td>\n    </tr>\n    <tr>\n      <th>348</th>\n      <td>arica</td>\n      <td>-18.48</td>\n      <td>-70.30</td>\n      <td>75.20</td>\n      <td>53</td>\n      <td>0</td>\n      <td>9.17</td>\n      <td>CL</td>\n      <td>1607878788</td>\n      <td></td>\n    </tr>\n    <tr>\n      <th>418</th>\n      <td>bilma</td>\n      <td>18.69</td>\n      <td>12.92</td>\n      <td>78.84</td>\n      <td>17</td>\n      <td>0</td>\n      <td>9.22</td>\n      <td>NE</td>\n      <td>1607878797</td>\n      <td></td>\n    </tr>\n    <tr>\n      <th>463</th>\n      <td>tessalit</td>\n      <td>20.20</td>\n      <td>1.01</td>\n      <td>77.56</td>\n      <td>19</td>\n      <td>0</td>\n      <td>9.71</td>\n      <td>ML</td>\n      <td>1607878809</td>\n      <td></td>\n    </tr>\n    <tr>\n      <th>554</th>\n      <td>puri</td>\n      <td>19.80</td>\n      <td>85.85</td>\n      <td>71.60</td>\n      <td>88</td>\n      <td>0</td>\n      <td>6.26</td>\n      <td>IN</td>\n      <td>1607878845</td>\n      <td></td>\n    </tr>\n  </tbody>\n</table>\n</div>"
     },
     "metadata": {},
     "execution_count": 4
    }
   ],
   "source": [
    "# Store into variable named hotel_df.\n",
    "hotel_df = ideal_weather_data\n",
    "\n",
    "# Add a \"Hotel Name\" column to the DataFrame.\n",
    "hotel_df[\"Hotel Name\"] = \"\"\n",
    "hotel_df"
   ]
  },
  {
   "cell_type": "code",
   "execution_count": 7,
   "metadata": {},
   "outputs": [
    {
     "output_type": "stream",
     "name": "stdout",
     "text": [
      "{'html_attributions': [],\n 'next_page_token': 'ATtYBwJ_wxDRrl3mnSoWyKFF50GDMvszaO2c6hbcEFNZOORdBY44nJUGitWL3zo2MHiwhV5XpQl37LkgP9Z0j0KYnaQvUuqfyhHkL7eHmuz_-XMBiUMaCw0DDZxrdB5BF_PG0vkmoUuePmMOdoMP4540_MmIKh14cfE3pR-vFH1vcWOVtmsbUZy3n4zf1gC0QzRs5agIylmDSM2uwaqOI7EXLq0jLzWxbc3SCYd3OD7HQ8yQbVlqd_lWyRWUwr3JcluTOw8twwPd02at3hp0PV_pblhivyE5SYSA1IxadjhwDPf0dgUFMU5Qkli_Rkj-LQLryFRMN2fXZLqlhbmkm6oMmLFrw6pR4FQt0wJD-ydv0JuyQemusD9WTgSfzfHU1mrlJkuUT-s776J6QCk1IDUMz9Eg8lqoVhamUC_DhB_R9PIPU1kY5GUJAk-o4J5uVrNb-g',\n 'results': [{'business_status': 'OPERATIONAL',\n              'geometry': {'location': {'lat': 19.7877231, 'lng': 85.7975519},\n                           'viewport': {'northeast': {'lat': 19.78855197989272,\n                                                      'lng': 85.79908372989271},\n                                        'southwest': {'lat': 19.78585232010728,\n                                                      'lng': 85.79638407010727}}},\n              'icon': 'https://maps.gstatic.com/mapfiles/place_api/icons/v1/png_71/lodging-71.png',\n              'name': 'HOTEL GOLDEN BANGLA',\n              'opening_hours': {'open_now': True},\n              'photos': [{'height': 4608,\n                          'html_attributions': ['<a '\n                                                'href=\"https://maps.google.com/maps/contrib/108941847410313617812\">A '\n                                                'Google User</a>'],\n                          'photo_reference': 'ATtYBwKksGvQGLIXl8nD8pCW_wC7wSCQRjtcb9h26EoflqifuZsxWwy_URh7I3Bgaad6pZ62_L4Y8GSEg7ekVlEVZ9tn4DkIsYoPEbvK8MGJcYgt7ituWJl4_zGECIaLQsOfGoG0xUUdEuNgi6WjgjExNp2jcX_s_8JN03HrZjQH9H-5fOlj',\n                          'width': 3456}],\n              'place_id': 'ChIJmcFHiVLFGToRP5YrUSP9-XM',\n              'plus_code': {'compound_code': 'QQQX+32 Puri, Odisha, India',\n                            'global_code': '7MF7QQQX+32'},\n              'rating': 4.4,\n              'reference': 'ChIJmcFHiVLFGToRP5YrUSP9-XM',\n              'scope': 'GOOGLE',\n              'types': ['lodging', 'point_of_interest', 'establishment'],\n              'user_ratings_total': 75,\n              'vicinity': 'New Marine Dr Rd, Near light house, baliapanda, '\n                          'Puri'},\n             {'business_status': 'OPERATIONAL',\n              'geometry': {'location': {'lat': 19.7940745,\n                                        'lng': 85.81362089999999},\n                           'viewport': {'northeast': {'lat': 19.79545392989272,\n                                                      'lng': 85.81498942989272},\n                                        'southwest': {'lat': 19.79275427010728,\n                                                      'lng': 85.81228977010727}}},\n              'icon': 'https://maps.gstatic.com/mapfiles/place_api/icons/v1/png_71/lodging-71.png',\n              'name': 'Hotel Strategic Inn Puri',\n              'photos': [{'height': 2981,\n                          'html_attributions': ['<a '\n                                                'href=\"https://maps.google.com/maps/contrib/106513051966613177496\">A '\n                                                'Google User</a>'],\n                          'photo_reference': 'ATtYBwIDEMaaUxjCRfEu65SqZb4mB1z0rgNxJhXF-pxqTW_pf56we8msxdYniFTeahj8O6zEhxYQi3clukHiXeaZH_rs7CpNqfr1o7qN78wP60XPiUzVSpi-KegbGqPXmOaDfU7dfyQW6734v47FI6BI1WegxzO7-MMggougmgFBgIh4ioky',\n                          'width': 3567}],\n              'place_id': 'ChIJR_F8xQ7FGToRlyOq_H0fHS0',\n              'plus_code': {'compound_code': 'QRV7+JC Puri, Odisha, India',\n                            'global_code': '7MF7QRV7+JC'},\n              'rating': 5,\n              'reference': 'ChIJR_F8xQ7FGToRlyOq_H0fHS0',\n              'scope': 'GOOGLE',\n              'types': ['lodging', 'point_of_interest', 'establishment'],\n              'user_ratings_total': 5,\n              'vicinity': 'Gourbatsai, Swarbadwar Bazar, near New Kakatua '\n                          'Restaurant, Puri'},\n             {'business_status': 'OPERATIONAL',\n              'geometry': {'location': {'lat': 19.8031267, 'lng': 85.8429132},\n                           'viewport': {'northeast': {'lat': 19.80447347989272,\n                                                      'lng': 85.84424882989272},\n                                        'southwest': {'lat': 19.80177382010728,\n                                                      'lng': 85.84154917010729}}},\n              'icon': 'https://maps.gstatic.com/mapfiles/place_api/icons/v1/png_71/lodging-71.png',\n              'name': 'Hotel Gandhara',\n              'photos': [{'height': 3024,\n                          'html_attributions': ['<a '\n                                                'href=\"https://maps.google.com/maps/contrib/111674523983681350462\">Hotel '\n                                                'Gandhara</a>'],\n                          'photo_reference': 'ATtYBwJLQyB8rL7ucuiXJlds-Ij2Y3Qax7TgGEJCXdJ8K9KD6-EosBXZBXeflnx-I_OXRfUTtSGSZ9ePKvQcGAeOw6bpDu7Fsmmp1sXwRvPZ171RtRTslzeiBx51y0W5vQpWlX_aH4-22XW_wndyX7B0eVuJHzvHdirmbuTG3QY6rG6PMTgt',\n                          'width': 4032}],\n              'place_id': 'ChIJJ2KPx6PGGToRyMn5OmsNxp0',\n              'plus_code': {'compound_code': 'RR3V+75 Puri, Odisha, India',\n                            'global_code': '7MF7RR3V+75'},\n              'rating': 3.8,\n              'reference': 'ChIJJ2KPx6PGGToRyMn5OmsNxp0',\n              'scope': 'GOOGLE',\n              'types': ['lodging', 'point_of_interest', 'establishment'],\n              'user_ratings_total': 319,\n              'vicinity': 'Chakratirtha Road, Puri'},\n             {'business_status': 'OPERATIONAL',\n              'geometry': {'location': {'lat': 19.7947683, 'lng': 85.8184591},\n                           'viewport': {'northeast': {'lat': 19.79612072989272,\n                                                      'lng': 85.81980307989272},\n                                        'southwest': {'lat': 19.79342107010728,\n                                                      'lng': 85.81710342010729}}},\n              'icon': 'https://maps.gstatic.com/mapfiles/place_api/icons/v1/png_71/lodging-71.png',\n              'name': 'Bidesh Ghar Inn',\n              'opening_hours': {'open_now': True},\n              'photos': [{'height': 809,\n                          'html_attributions': ['<a '\n                                                'href=\"https://maps.google.com/maps/contrib/116332734882816786301\">A '\n                                                'Google User</a>'],\n                          'photo_reference': 'ATtYBwKn7_g2JYVGEtwFEmRhe34e4gwoC715NhgvQWRXEGLrzAc7mPAwftRbCHvWilabwuPA92U0Qlgw8uEUD7FOvVwzdZDoIdgjiVaHm_P9B6rtfkEUdr6RhwjLKIFE6-hD2LUupNQteVinQf77TXlr86YW4ZS9mXXSq3AlSN7NvTzdP_FM',\n                          'width': 1440}],\n              'place_id': 'ChIJt55e7jLEGToR0HUB78qqxpA',\n              'plus_code': {'compound_code': 'QRV9+W9 Puri, Odisha, India',\n                            'global_code': '7MF7QRV9+W9'},\n              'rating': 3.7,\n              'reference': 'ChIJt55e7jLEGToR0HUB78qqxpA',\n              'scope': 'GOOGLE',\n              'types': ['lodging', 'point_of_interest', 'establishment'],\n              'user_ratings_total': 97,\n              'vicinity': 'Swargadwar road, road, Bali Sahi, Puri'},\n             {'business_status': 'OPERATIONAL',\n              'geometry': {'location': {'lat': 19.8133822, 'lng': 85.8314655},\n                           'viewport': {'northeast': {'lat': 19.81473217989272,\n                                                      'lng': 85.83281527989273},\n                                        'southwest': {'lat': 19.81203252010728,\n                                                      'lng': 85.83011562010728}}},\n              'icon': 'https://maps.gstatic.com/mapfiles/place_api/icons/v1/png_71/lodging-71.png',\n              'name': 'Toshali Hotels & Resorts',\n              'place_id': 'ChIJJ2KPx6PGGToRAKgeki9neDU',\n              'rating': 4.3,\n              'reference': 'ChIJJ2KPx6PGGToRAKgeki9neDU',\n              'scope': 'GOOGLE',\n              'types': ['lodging', 'point_of_interest', 'establishment'],\n              'user_ratings_total': 16,\n              'vicinity': 'Toshali Sands, Ethnic Village Resort Konark, Marine '\n                          'Drive, Puri'},\n             {'business_status': 'OPERATIONAL',\n              'geometry': {'location': {'lat': 19.788945,\n                                        'lng': 85.80436290000002},\n                           'viewport': {'northeast': {'lat': 19.79021402989272,\n                                                      'lng': 85.80574262989272},\n                                        'southwest': {'lat': 19.78751437010728,\n                                                      'lng': 85.80304297010728}}},\n              'icon': 'https://maps.gstatic.com/mapfiles/place_api/icons/v1/png_71/lodging-71.png',\n              'name': 'Hotel Sonar Bangla Puri',\n              'opening_hours': {'open_now': False},\n              'photos': [{'height': 539,\n                          'html_attributions': ['<a '\n                                                'href=\"https://maps.google.com/maps/contrib/104135245701773513760\">Hotel '\n                                                'Sonar Bangla Puri</a>'],\n                          'photo_reference': 'ATtYBwJoYJGbEDak6iDAmzLt4Yybg4RYRRbNHAqs5h7Nh8qBE_obZtWlf6ycxJN6jpL3c39fF8rmWNjzw69OA1yGTNg_xawrSo7-E_ErCU9jXb2dOljWjHqv6DBHJ1TfgYdHc80R5SSMeOzFMF1gW_qZn0RFI_63kuFWAsV975ZNrfBkldOj',\n                          'width': 960}],\n              'place_id': 'ChIJ8awneEzBGToR_h0hmkIl2GM',\n              'plus_code': {'compound_code': 'QRQ3+HP Puri, Odisha, India',\n                            'global_code': '7MF7QRQ3+HP'},\n              'rating': 3.8,\n              'reference': 'ChIJ8awneEzBGToR_h0hmkIl2GM',\n              'scope': 'GOOGLE',\n              'types': ['lodging', 'point_of_interest', 'establishment'],\n              'user_ratings_total': 1088,\n              'vicinity': 'New Marine Drive Road, Baliapanda, Puri'},\n             {'business_status': 'OPERATIONAL',\n              'geometry': {'location': {'lat': 19.7939313, 'lng': 85.8130194},\n                           'viewport': {'northeast': {'lat': 19.79529597989272,\n                                                      'lng': 85.81435272989272},\n                                        'southwest': {'lat': 19.79259632010728,\n                                                      'lng': 85.81165307010728}}},\n              'icon': 'https://maps.gstatic.com/mapfiles/place_api/icons/v1/png_71/lodging-71.png',\n              'name': 'HOTEL OMM PALACE',\n              'opening_hours': {'open_now': True},\n              'photos': [{'height': 4480,\n                          'html_attributions': ['<a '\n                                                'href=\"https://maps.google.com/maps/contrib/116426509935815181334\">A '\n                                                'Google User</a>'],\n                          'photo_reference': 'ATtYBwJVfREgZJcEU1PlrzK4XcTxxYKzJVPdZGwkOoZ4Lwx6qGSCTzyaartAtmKKfRShk5b-HtYVE3t5efR4C-oWxLqgUZBdZCMGCPepmnnUpsnXrC8_tkaljSbLDt825glRUQ1ZutC5lffDcglVGwYp814OBsJSZ15FOxRdrqJjxOsB_wOK',\n                          'width': 6720}],\n              'place_id': 'ChIJLzIHuiHFGToRnQc0plUSKcg',\n              'plus_code': {'compound_code': 'QRV7+H6 Puri, Odisha, India',\n                            'global_code': '7MF7QRV7+H6'},\n              'rating': 4.1,\n              'reference': 'ChIJLzIHuiHFGToRnQc0plUSKcg',\n              'scope': 'GOOGLE',\n              'types': ['lodging', 'point_of_interest', 'establishment'],\n              'user_ratings_total': 23,\n              'vicinity': 'Dharmaraj Rd, Goudabad Sahi, Puri'},\n             {'business_status': 'OPERATIONAL',\n              'geometry': {'location': {'lat': 19.793263,\n                                        'lng': 85.81859299999999},\n                           'viewport': {'northeast': {'lat': 19.79461802989272,\n                                                      'lng': 85.81993972989271},\n                                        'southwest': {'lat': 19.79191837010728,\n                                                      'lng': 85.81724007010727}}},\n              'icon': 'https://maps.gstatic.com/mapfiles/place_api/icons/v1/png_71/lodging-71.png',\n              'name': 'THE SAIEN',\n              'opening_hours': {'open_now': False},\n              'photos': [{'height': 3120,\n                          'html_attributions': ['<a '\n                                                'href=\"https://maps.google.com/maps/contrib/102562412019845802776\">A '\n                                                'Google User</a>'],\n                          'photo_reference': 'ATtYBwIXeGS-19ovipMxU_j2p4sOC__dtMYVTFPqh3UaH4jg-O5FPooDkD0yhKepdOlq8RbV8ro80ySPkmVSdne7kVEuaSDiQI0KFXnkhsJbCAnvZ8lBX1KE1geVwRPjbk_awVep4wCpZ-_ZfCdquKejLGtmZItbdeoGxO70AclGQmsTxIcI',\n                          'width': 4160}],\n              'place_id': 'ChIJKWBWrjrEGToRhpOzWw1IyuQ',\n              'plus_code': {'compound_code': 'QRV9+8C Puri, Odisha, India',\n                            'global_code': '7MF7QRV9+8C'},\n              'rating': 3.8,\n              'reference': 'ChIJKWBWrjrEGToRhpOzWw1IyuQ',\n              'scope': 'GOOGLE',\n              'types': ['lodging', 'point_of_interest', 'establishment'],\n              'user_ratings_total': 34,\n              'vicinity': 'New Marine Drive Road, swargadwar ghat, infront of '\n                          'milani ghar, Puri'},\n             {'business_status': 'OPERATIONAL',\n              'geometry': {'location': {'lat': 19.7879711,\n                                        'lng': 85.80074929999999},\n                           'viewport': {'northeast': {'lat': 19.78941077989272,\n                                                      'lng': 85.80206862989272},\n                                        'southwest': {'lat': 19.78671112010728,\n                                                      'lng': 85.79936897010727}}},\n              'icon': 'https://maps.gstatic.com/mapfiles/place_api/icons/v1/png_71/lodging-71.png',\n              'name': 'Light House Inn',\n              'opening_hours': {'open_now': True},\n              'photos': [{'height': 4192,\n                          'html_attributions': ['<a '\n                                                'href=\"https://maps.google.com/maps/contrib/103407632719798972139\">A '\n                                                'Google User</a>'],\n                          'photo_reference': 'ATtYBwJ68Z8h3qK6le23aNBpKplS6dbw44nPObGxaxtrSBRmWFlTqh_NunZBgrgve4Vnts0JuOfLUN4fV_hT-JfEiIReoXLWmnzrmTOPAsHWweKGYq0RbnGucNObQhE1k6_c-JYTuvX1EDFB7YnFyTobZd0BxjMGyd_-fmawWiwCQqX_MjRT',\n                          'width': 3144}],\n              'place_id': 'ChIJMwmHxs_FGToREkza18XleVw',\n              'plus_code': {'compound_code': 'QRQ2+57 Puri, Odisha, India',\n                            'global_code': '7MF7QRQ2+57'},\n              'rating': 4.8,\n              'reference': 'ChIJMwmHxs_FGToREkza18XleVw',\n              'scope': 'GOOGLE',\n              'types': ['lodging', 'point_of_interest', 'establishment'],\n              'user_ratings_total': 38,\n              'vicinity': 'C-6, Sagar Vihar, Baliapanda Rd, Puri'},\n             {'business_status': 'OPERATIONAL',\n              'geometry': {'location': {'lat': 19.7977415, 'lng': 85.823554},\n                           'viewport': {'northeast': {'lat': 19.79897577989272,\n                                                      'lng': 85.82483372989273},\n                                        'southwest': {'lat': 19.79627612010728,\n                                                      'lng': 85.82213407010728}}},\n              'icon': 'https://maps.gstatic.com/mapfiles/place_api/icons/v1/png_71/lodging-71.png',\n              'name': 'HOTEL GUNJAN',\n              'opening_hours': {'open_now': True},\n              'photos': [{'height': 3120,\n                          'html_attributions': ['<a '\n                                                'href=\"https://maps.google.com/maps/contrib/115331636488034487278\">Swapan '\n                                                'Ghosh</a>'],\n                          'photo_reference': 'ATtYBwJTo4bNu2SpBcD6b2Fto4FHj9QeVgBPvd870iRM7htPgdGb8YASpF9BCQ5zX9Z9NpB9AvudT51Zo1-M8k3E1SCaxu9Np95lhOFdUnZfIhvVobSoM3n6kBJPiTKK65k7wuBrCXKpmmH9LiqGa2_-L1Ss8gqXP65NlxKP5YI9yg44ipQI',\n                          'width': 4160}],\n              'place_id': 'ChIJz3gK0KDGGToRS-IIEMsWY_s',\n              'plus_code': {'compound_code': 'QRXF+3C Puri, Odisha, India',\n                            'global_code': '7MF7QRXF+3C'},\n              'rating': 3.2,\n              'reference': 'ChIJz3gK0KDGGToRS-IIEMsWY_s',\n              'scope': 'GOOGLE',\n              'types': ['lodging', 'point_of_interest', 'establishment'],\n              'user_ratings_total': 105,\n              'vicinity': 'Mala Rd, Puri'},\n             {'business_status': 'OPERATIONAL',\n              'geometry': {'location': {'lat': 19.7937919, 'lng': 85.8127343},\n                           'viewport': {'northeast': {'lat': 19.79512792989272,\n                                                      'lng': 85.81410047989272},\n                                        'southwest': {'lat': 19.79242827010728,\n                                                      'lng': 85.81140082010728}}},\n              'icon': 'https://maps.gstatic.com/mapfiles/place_api/icons/v1/png_71/lodging-71.png',\n              'name': 'Hotel Sun City Puri',\n              'opening_hours': {'open_now': True},\n              'photos': [{'height': 2128,\n                          'html_attributions': ['<a '\n                                                'href=\"https://maps.google.com/maps/contrib/107912295561673199953\">A '\n                                                'Google User</a>'],\n                          'photo_reference': 'ATtYBwI3qZCT539V_u3pA7EYPmZabzDWU9OBTw2D6bA8Ltr-iCMHYHVbYWVJsPvA41BsSFMsoRvqbvZlayNKZ3N0BHmG-Z69BNRhiHhkPWiFM_bE9iLDcEB942zkRkQlJRUKSB7lZBUBTUWeD0V1uuJjA-PZkZJohjS_IQbKFcQsUe-EkpzE',\n                          'width': 2388}],\n              'place_id': 'ChIJk8YSkAHEGToRGNSGD8UQcf4',\n              'plus_code': {'compound_code': 'QRV7+G3 Puri, Odisha, India',\n                            'global_code': '7MF7QRV7+G3'},\n              'rating': 4.5,\n              'reference': 'ChIJk8YSkAHEGToRGNSGD8UQcf4',\n              'scope': 'GOOGLE',\n              'types': ['lodging', 'point_of_interest', 'establishment'],\n              'user_ratings_total': 2,\n              'vicinity': '41, Baliapanda Rd, near New Kakatua Restaurant, '\n                          'Goudabad Sahi, Puri'},\n             {'business_status': 'OPERATIONAL',\n              'geometry': {'location': {'lat': 19.7895709, 'lng': 85.8061805},\n                           'viewport': {'northeast': {'lat': 19.79082897989272,\n                                                      'lng': 85.80756552989273},\n                                        'southwest': {'lat': 19.78812932010728,\n                                                      'lng': 85.80486587010728}}},\n              'icon': 'https://maps.gstatic.com/mapfiles/place_api/icons/v1/png_71/lodging-71.png',\n              'name': 'La Platina',\n              'photos': [{'height': 2048,\n                          'html_attributions': ['<a '\n                                                'href=\"https://maps.google.com/maps/contrib/105488843660194068334\">A '\n                                                'Google User</a>'],\n                          'photo_reference': 'ATtYBwLm0VdHoo7i1fFWBm0YoN1UO-3nYl4f5DW8I78dVYJUhlA2NS18njgltaLDXzXokQWzaS5GEQLqPYYpgLmKWxWq1yMhy6D8Iy-RTYlELyhzwa_BZCVJCQWJvfSluQTI76t9Hm7Mfti55sT3YZEkJvwcqrtQDPPXs0__Jw7K3i5_uI6w',\n                          'width': 1536}],\n              'place_id': 'ChIJ06CQiHvFGToRRpXb3xkmuNk',\n              'plus_code': {'compound_code': 'QRQ4+RF Puri, Odisha, India',\n                            'global_code': '7MF7QRQ4+RF'},\n              'rating': 4.5,\n              'reference': 'ChIJ06CQiHvFGToRRpXb3xkmuNk',\n              'scope': 'GOOGLE',\n              'types': ['lodging', 'point_of_interest', 'establishment'],\n              'user_ratings_total': 16,\n              'vicinity': 'Puri'},\n             {'business_status': 'OPERATIONAL',\n              'geometry': {'location': {'lat': 19.798775, 'lng': 85.83395},\n                           'viewport': {'northeast': {'lat': 19.80013842989272,\n                                                      'lng': 85.83534362989272},\n                                        'southwest': {'lat': 19.79743877010728,\n                                                      'lng': 85.83264397010728}}},\n              'icon': 'https://maps.gstatic.com/mapfiles/place_api/icons/v1/png_71/lodging-71.png',\n              'name': 'MAYFAIR Heritage, Puri',\n              'opening_hours': {'open_now': True},\n              'photos': [{'height': 1367,\n                          'html_attributions': ['<a '\n                                                'href=\"https://maps.google.com/maps/contrib/107058924512141918681\">A '\n                                                'Google User</a>'],\n                          'photo_reference': 'ATtYBwJmj6f0YbCoIF-Q4z6jFAkB7FAkgpl_KbWX3uqg48TUFU6VY-f3zqQ5e_zjSbI5naWRsmjxFHLOrzZfxhAUdqchJjHrgU7TbRFILHpjV-eOSgV2u_6IQB6jKMbjoD65mpUQKU2yTyy4SaemJlVav99u8J3qpxEnAo6swga-pVqWXVvJ',\n                          'width': 2048}],\n              'place_id': 'ChIJxUosxRvEGToRuI2BdYgUdbI',\n              'plus_code': {'compound_code': 'QRXM+GH Puri, Odisha, India',\n                            'global_code': '7MF7QRXM+GH'},\n              'rating': 4.5,\n              'reference': 'ChIJxUosxRvEGToRuI2BdYgUdbI',\n              'scope': 'GOOGLE',\n              'types': ['spa', 'lodging', 'point_of_interest', 'establishment'],\n              'user_ratings_total': 4776,\n              'vicinity': 'Plot No 122, 124, 125, Chakra Tirtha Rd, Puri'},\n             {'business_status': 'OPERATIONAL',\n              'geometry': {'location': {'lat': 19.7886142, 'lng': 85.8035003},\n                           'viewport': {'northeast': {'lat': 19.78990252989272,\n                                                      'lng': 85.80487247989272},\n                                        'southwest': {'lat': 19.78720287010728,\n                                                      'lng': 85.80217282010727}}},\n              'icon': 'https://maps.gstatic.com/mapfiles/place_api/icons/v1/png_71/lodging-71.png',\n              'name': 'Hotel Dreamland Puri',\n              'opening_hours': {'open_now': True},\n              'photos': [{'height': 809,\n                          'html_attributions': ['<a '\n                                                'href=\"https://maps.google.com/maps/contrib/102887633014874313208\">A '\n                                                'Google User</a>'],\n                          'photo_reference': 'ATtYBwLVb_Jp3ZEN_E9kIN-FaTyU8Kw_RqE-78agEKIJ0XXYk1RBqt9rrEjjCPgotXEzUQMTXrShQwy0yp95bDaBNI8J36QzlEW_lIZKW8FdOehfndgQkt3HHoa4r0nWGj3JBcCcd7ZFbkrTDPbcsSSofW_VToyXuIcxXFAzhgmIvjx3_LLa',\n                          'width': 1440}],\n              'place_id': 'ChIJh-hdVyPEGToR_r_UkbexD7M',\n              'plus_code': {'compound_code': 'QRQ3+CC Puri, Odisha, India',\n                            'global_code': '7MF7QRQ3+CC'},\n              'rating': 4,\n              'reference': 'ChIJh-hdVyPEGToR_r_UkbexD7M',\n              'scope': 'GOOGLE',\n              'types': ['lodging', 'point_of_interest', 'establishment'],\n              'user_ratings_total': 397,\n              'vicinity': 'New Marine Drive Road, Ballia Panda, Puri'},\n             {'business_status': 'OPERATIONAL',\n              'geometry': {'location': {'lat': 19.7987758, 'lng': 85.834372},\n                           'viewport': {'northeast': {'lat': 19.80023162989272,\n                                                      'lng': 85.83568572989272},\n                                        'southwest': {'lat': 19.79753197010728,\n                                                      'lng': 85.83298607010728}}},\n              'icon': 'https://maps.gstatic.com/mapfiles/place_api/icons/v1/png_71/lodging-71.png',\n              'name': 'MAYFAIR Waves, Puri',\n              'opening_hours': {'open_now': True},\n              'photos': [{'height': 1920,\n                          'html_attributions': ['<a '\n                                                'href=\"https://maps.google.com/maps/contrib/111121214769125842023\">A '\n                                                'Google User</a>'],\n                          'photo_reference': 'ATtYBwIlvgzdaR39cqDAGnOX_ZpTBNvFm_3Wou3jQshlNAR3IlNaWGpbM03v3UY6ZJSYSGPkQWPyQfUhPAPiq5qxDfWT-H4Eoipir08D-NwEboL18myWcmWS4dfvFzxJInwvlE26xfu2FtcTTyjB0Q91fZMJEIkaLT6TRoJ4uoaIAz4Dqb6u',\n                          'width': 2844}],\n              'place_id': 'ChIJZb6F6RvEGToRM4BAf1k9VL0',\n              'plus_code': {'compound_code': 'QRXM+GP Puri, Odisha, India',\n                            'global_code': '7MF7QRXM+GP'},\n              'rating': 4.5,\n              'reference': 'ChIJZb6F6RvEGToRM4BAf1k9VL0',\n              'scope': 'GOOGLE',\n              'types': ['lodging', 'point_of_interest', 'establishment'],\n              'user_ratings_total': 380,\n              'vicinity': 'Chakra Tirtha Rd, Puri'},\n             {'business_status': 'OPERATIONAL',\n              'geometry': {'location': {'lat': 19.8060232,\n                                        'lng': 85.81795369999999},\n                           'viewport': {'northeast': {'lat': 19.80722277989272,\n                                                      'lng': 85.81928832989271},\n                                        'southwest': {'lat': 19.80452312010728,\n                                                      'lng': 85.81658867010728}}},\n              'icon': 'https://maps.gstatic.com/mapfiles/place_api/icons/v1/png_71/lodging-71.png',\n              'name': 'Gopal Bhawan',\n              'opening_hours': {'open_now': False},\n              'photos': [{'height': 2643,\n                          'html_attributions': ['<a '\n                                                'href=\"https://maps.google.com/maps/contrib/109704025584609466265\">A '\n                                                'Google User</a>'],\n                          'photo_reference': 'ATtYBwJXMkhq5FO5vtw8XYTILxpglRq5hIp__-5pnL_u1O0qO5NQwnBkwSVsugPckvG30CBHwfH6EjuRlbQPnaehf3ZceHf2RRH4SdZs4Rh_mu9agGiCsiobZa7ZkaAQo000mcSwHQJLXnnAuVVtK4V2Lh4ih5DaBNJrt2lggguQzGJ67ltn',\n                          'width': 1982}],\n              'place_id': 'ChIJUaK0qoLGGToR3OBQezg_OoQ',\n              'plus_code': {'compound_code': 'RR49+C5 Puri, Odisha, India',\n                            'global_code': '7MF7RR49+C5'},\n              'rating': 3.9,\n              'reference': 'ChIJUaK0qoLGGToR3OBQezg_OoQ',\n              'scope': 'GOOGLE',\n              'types': ['place_of_worship',\n                        'lodging',\n                        'point_of_interest',\n                        'establishment'],\n              'user_ratings_total': 20,\n              'vicinity': 'Shuvam Rd, Laxmi Bazar, North Gate, Puri'},\n             {'business_status': 'OPERATIONAL',\n              'geometry': {'location': {'lat': 19.7873138, 'lng': 85.7987983},\n                           'viewport': {'northeast': {'lat': 19.78866362989272,\n                                                      'lng': 85.80014812989273},\n                                        'southwest': {'lat': 19.78596397010728,\n                                                      'lng': 85.79744847010728}}},\n              'icon': 'https://maps.gstatic.com/mapfiles/place_api/icons/v1/png_71/lodging-71.png',\n              'name': 'Hotel Golden Dust',\n              'opening_hours': {'open_now': True},\n              'photos': [{'height': 2128,\n                          'html_attributions': ['<a '\n                                                'href=\"https://maps.google.com/maps/contrib/112629123349986137839\">A '\n                                                'Google User</a>'],\n                          'photo_reference': 'ATtYBwJCUnbWsu_iqmzCxwAgDqKW_XJa3gDKRCPxZSHxwO4EycgfIhtILEpJo9uks7spRb4ap6CjFRB0CLauGTUBCwBjKUXL1Hti9CrkaVqcxX8VVHSbY0igUmcss_nO7egmrQG-cGxNuSq6U8ZzvygF-S8LSt41CadppLhToS-XeE4ZLcQS',\n                          'width': 4608}],\n              'place_id': 'ChIJawktvonFGToRgcRyQPO6LHo',\n              'plus_code': {'compound_code': 'QQPX+WG Puri, Odisha, India',\n                            'global_code': '7MF7QQPX+WG'},\n              'rating': 5,\n              'reference': 'ChIJawktvonFGToRgcRyQPO6LHo',\n              'scope': 'GOOGLE',\n              'types': ['lodging', 'point_of_interest', 'establishment'],\n              'user_ratings_total': 60,\n              'vicinity': 'Sea Beach, New Marine Drive Road, Baliapanda Rd, '\n                          'Puri'},\n             {'business_status': 'OPERATIONAL',\n              'geometry': {'location': {'lat': 19.7900277, 'lng': 85.8071387},\n                           'viewport': {'northeast': {'lat': 19.79122772989272,\n                                                      'lng': 85.80854602989272},\n                                        'southwest': {'lat': 19.78852807010728,\n                                                      'lng': 85.80584637010728}}},\n              'icon': 'https://maps.gstatic.com/mapfiles/place_api/icons/v1/png_71/lodging-71.png',\n              'name': 'ହୋଟେଲ୍ ନିଳାଦ୍ରୀ HOTEL NILADRI',\n              'opening_hours': {'open_now': True},\n              'photos': [{'height': 460,\n                          'html_attributions': ['<a '\n                                                'href=\"https://maps.google.com/maps/contrib/111351665657492564070\">A '\n                                                'Google User</a>'],\n                          'photo_reference': 'ATtYBwIZoD3o-oUtATjLCTl5ll0dSJJ0A-MiXpf75dOe9_d4u7kPRE7_YrpUJgEu11oXdCVw2f6OMC1VTe6rzRLh0pjVg11-uuPZXambJ_RZZxA_7FIMGcYh9PG0Ani3RtEs0T33DVP7ll_PgZNjRUYdfha2nfZW-0FsFBHQjR0qy6uApQJB',\n                          'width': 840}],\n              'place_id': 'ChIJb_wjzDrEGToReloO0G0l3bg',\n              'plus_code': {'compound_code': 'QRR4+2V Puri, Odisha, India',\n                            'global_code': '7MF7QRR4+2V'},\n              'rating': 3.8,\n              'reference': 'ChIJb_wjzDrEGToReloO0G0l3bg',\n              'scope': 'GOOGLE',\n              'types': ['lodging', 'point_of_interest', 'establishment'],\n              'user_ratings_total': 504,\n              'vicinity': 'New Marine Drive Road, Sea Beach Rd, Puri'},\n             {'business_status': 'OPERATIONAL',\n              'geometry': {'location': {'lat': 19.7928146, 'lng': 85.7984831},\n                           'viewport': {'northeast': {'lat': 19.79416717989272,\n                                                      'lng': 85.7998546298927},\n                                        'southwest': {'lat': 19.79146752010728,\n                                                      'lng': 85.79715497010727}}},\n              'icon': 'https://maps.gstatic.com/mapfiles/place_api/icons/v1/png_71/lodging-71.png',\n              'name': 'RG Homes',\n              'opening_hours': {'open_now': True},\n              'photos': [{'height': 3000,\n                          'html_attributions': ['<a '\n                                                'href=\"https://maps.google.com/maps/contrib/107988821133512192263\">A '\n                                                'Google User</a>'],\n                          'photo_reference': 'ATtYBwJHI8xUzWuMKeRtcwR5OP5BdWk2HZ6YrJWusHJN4EwFEY_0KxMv93Uxjtz8WcULqCgqUK-eSo6ERpkpYZozhGGcG55Uz0LZOjAhfHzbj97RbPrbTQlWH9dmuX-2XRUVlkzAQbCElvIN-8j5TmD0zaeuL33hBLzkeEbAnhjI25afjSol',\n                          'width': 3999}],\n              'place_id': 'ChIJ1cvHdBvFGToRUc-15AJkT1o',\n              'plus_code': {'compound_code': 'QQVX+49 Puri, Odisha, India',\n                            'global_code': '7MF7QQVX+49'},\n              'rating': 4.8,\n              'reference': 'ChIJ1cvHdBvFGToRUc-15AJkT1o',\n              'scope': 'GOOGLE',\n              'types': ['lodging', 'point_of_interest', 'establishment'],\n              'user_ratings_total': 4,\n              'vicinity': 'Krishna sea sight apartments (RG Homes, Baliapanda '\n                          'Rd, nearby hans coco palms, Puri'},\n             {'business_status': 'OPERATIONAL',\n              'geometry': {'location': {'lat': 19.7934971, 'lng': 85.8173212},\n                           'viewport': {'northeast': {'lat': 19.79482412989272,\n                                                      'lng': 85.81866832989272},\n                                        'southwest': {'lat': 19.79212447010728,\n                                                      'lng': 85.81596867010728}}},\n              'icon': 'https://maps.gstatic.com/mapfiles/place_api/icons/v1/png_71/lodging-71.png',\n              'name': 'Sea Dream Lodge',\n              'opening_hours': {'open_now': False},\n              'photos': [{'height': 627,\n                          'html_attributions': ['<a '\n                                                'href=\"https://maps.google.com/maps/contrib/115818837273851451903\">A '\n                                                'Google User</a>'],\n                          'photo_reference': 'ATtYBwID_4Z-kPsUXeG04KnRUPh3r3kiHs2hahXbfcswILvHqRjegIziPObm9f91jvsmRFkragP1aT5VSGNGm0fnS_N6Lg6S2BBOiXABdtOhvgc_Fv0wnXakmffQFPfhDNSeCAa5R0d3LXYTGGdoNY3dm2nbureNRaTOHk3AW0iMpuknjpqy',\n                          'width': 1114}],\n              'place_id': 'ChIJ9zTEHDDEGToRz5ZbfUR7NHA',\n              'plus_code': {'compound_code': 'QRV8+9W Puri, Odisha, India',\n                            'global_code': '7MF7QRV8+9W'},\n              'rating': 3.6,\n              'reference': 'ChIJ9zTEHDDEGToRz5ZbfUR7NHA',\n              'scope': 'GOOGLE',\n              'types': ['lodging', 'point_of_interest', 'establishment'],\n              'user_ratings_total': 300,\n              'vicinity': 'opposite Swargadwar Road, Bali Sahi, Puri'}],\n 'status': 'OK'}\n"
     ]
    }
   ],
   "source": [
    "# params dictionary to update each iteration\n",
    "params = {\n",
    "    \"radius\": 50000,\n",
    "    \"types\": \"lodging\",\n",
    "    \"keyword\": \"hotel\",\n",
    "    \"key\": g_key\n",
    "}\n",
    "\n",
    "# Use the lat/lng to iterate through the weather\n",
    "for index, row in hotel_df.iterrows():\n",
    "    # get lat, lng from df\n",
    "    lat = row[\"Lat\"]\n",
    "    lng = row[\"Lng\"]\n",
    "\n",
    "    # change location each iteration while leaving original params in place\n",
    "    params[\"location\"] = f\"{lat},{lng}\"\n",
    "\n",
    "    # Use the search term: \"International Airport\" and our lat/lng\n",
    "    base_url = \"https://maps.googleapis.com/maps/api/place/nearbysearch/json\"\n",
    "\n",
    "    # make request and print url\n",
    "    name_address = requests.get(base_url, params=params).json()\n",
    "\n",
    "pprint(name_address)    "
   ]
  },
  {
   "cell_type": "code",
   "execution_count": null,
   "metadata": {},
   "outputs": [],
   "source": [
    "# NOTE: Do not change any of the code in this cell\n",
    "\n",
    "# Using the template add the hotel marks to the heatmap\n",
    "info_box_template = \"\"\"\n",
    "<dl>\n",
    "<dt>Name</dt><dd>{Hotel Name}</dd>\n",
    "<dt>City</dt><dd>{City}</dd>\n",
    "<dt>Country</dt><dd>{Country}</dd>\n",
    "</dl>\n",
    "\"\"\"\n",
    "# Store the DataFrame Row\n",
    "# NOTE: be sure to update with your DataFrame name\n",
    "hotel_info = [info_box_template.format(**row) for index, row in hotel_df.iterrows()]\n",
    "locations = hotel_df[[\"Lat\", \"Lng\"]]"
   ]
  },
  {
   "cell_type": "code",
   "execution_count": null,
   "metadata": {},
   "outputs": [],
   "source": [
    "# Add marker layer ontop of heat map\n",
    "\n",
    "\n",
    "# Display figure\n"
   ]
  },
  {
   "cell_type": "code",
   "execution_count": null,
   "metadata": {},
   "outputs": [],
   "source": []
  }
 ],
 "metadata": {
  "kernelspec": {
   "display_name": "Python [conda env:.conda-PythonData]*",
   "language": "python",
   "name": "myenv"
  },
  "language_info": {
   "codemirror_mode": {
    "name": "ipython",
    "version": 3
   },
   "file_extension": ".py",
   "mimetype": "text/x-python",
   "name": "python",
   "nbconvert_exporter": "python",
   "pygments_lexer": "ipython3",
   "version": "3.8.5-final"
  },
  "latex_envs": {
   "LaTeX_envs_menu_present": true,
   "autoclose": false,
   "autocomplete": true,
   "bibliofile": "biblio.bib",
   "cite_by": "apalike",
   "current_citInitial": 1,
   "eqLabelWithNumbers": true,
   "eqNumInitial": 1,
   "hotkeys": {
    "equation": "Ctrl-E",
    "itemize": "Ctrl-I"
   },
   "labels_anchors": false,
   "latex_user_defs": false,
   "report_style_numbering": false,
   "user_envs_cfg": false
  }
 },
 "nbformat": 4,
 "nbformat_minor": 4
}